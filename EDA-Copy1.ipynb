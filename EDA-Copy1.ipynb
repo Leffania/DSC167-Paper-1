{
 "cells": [
  {
   "cell_type": "markdown",
   "id": "42ab6ca7-4dfb-449d-9b8b-f75925f6a383",
   "metadata": {},
   "source": [
    "San Diego Traffic Stops (2013-2017) Exploratory Data Analysis\n",
    "---"
   ]
  },
  {
   "cell_type": "code",
   "execution_count": 2,
   "id": "54bd4ff3-abbb-4ec1-8e41-e6b0db55ed5b",
   "metadata": {},
   "outputs": [],
   "source": [
    "import matplotlib.pyplot as plt\n",
    "import pandas as pd"
   ]
  },
  {
   "cell_type": "code",
   "execution_count": 3,
   "id": "80b4a2a5-e26f-4821-a8f9-a3f22cb7613f",
   "metadata": {},
   "outputs": [],
   "source": [
    "path = \"yg821jf8611_ca_san_diego_2020_04_01.csv.zip\"\n",
    "data = pd.read_csv(path)"
   ]
  },
  {
   "cell_type": "markdown",
   "id": "0405889f-2c52-4d66-bb87-4b0df7ccb012",
   "metadata": {},
   "source": [
    "Show the dataset features."
   ]
  },
  {
   "cell_type": "code",
   "execution_count": 4,
   "id": "4548584f-edd0-4ff5-98d6-7c43c1ecd6a1",
   "metadata": {},
   "outputs": [
    {
     "data": {
      "text/plain": [
       "Index(['raw_row_number', 'date', 'time', 'service_area', 'subject_age',\n",
       "       'subject_race', 'subject_sex', 'type', 'arrest_made', 'citation_issued',\n",
       "       'warning_issued', 'outcome', 'contraband_found', 'search_conducted',\n",
       "       'search_person', 'search_vehicle', 'search_basis', 'reason_for_search',\n",
       "       'reason_for_stop', 'raw_action_taken', 'raw_subject_race_description'],\n",
       "      dtype='object')"
      ]
     },
     "execution_count": 4,
     "metadata": {},
     "output_type": "execute_result"
    }
   ],
   "source": [
    "data.columns"
   ]
  },
  {
   "cell_type": "code",
   "execution_count": 18,
   "id": "e33ab584-791e-40e8-b96c-6d1c36048ac1",
   "metadata": {},
   "outputs": [
    {
     "data": {
      "text/html": [
       "<div>\n",
       "<style scoped>\n",
       "    .dataframe tbody tr th:only-of-type {\n",
       "        vertical-align: middle;\n",
       "    }\n",
       "\n",
       "    .dataframe tbody tr th {\n",
       "        vertical-align: top;\n",
       "    }\n",
       "\n",
       "    .dataframe thead th {\n",
       "        text-align: right;\n",
       "    }\n",
       "</style>\n",
       "<table border=\"1\" class=\"dataframe\">\n",
       "  <thead>\n",
       "    <tr style=\"text-align: right;\">\n",
       "      <th></th>\n",
       "      <th>subject_age</th>\n",
       "      <th>subject_race</th>\n",
       "      <th>subject_sex</th>\n",
       "      <th>arrest_made</th>\n",
       "      <th>citation_issued</th>\n",
       "      <th>warning_issued</th>\n",
       "      <th>outcome</th>\n",
       "      <th>contraband_found</th>\n",
       "      <th>search_conducted</th>\n",
       "      <th>search_person</th>\n",
       "      <th>search_vehicle</th>\n",
       "      <th>search_basis</th>\n",
       "      <th>reason_for_search</th>\n",
       "      <th>reason_for_stop</th>\n",
       "      <th>raw_action_taken</th>\n",
       "      <th>raw_subject_race_description</th>\n",
       "    </tr>\n",
       "  </thead>\n",
       "  <tbody>\n",
       "    <tr>\n",
       "      <th>0</th>\n",
       "      <td>24.0</td>\n",
       "      <td>white</td>\n",
       "      <td>male</td>\n",
       "      <td>False</td>\n",
       "      <td>True</td>\n",
       "      <td>False</td>\n",
       "      <td>citation</td>\n",
       "      <td>NaN</td>\n",
       "      <td>False</td>\n",
       "      <td>False</td>\n",
       "      <td>False</td>\n",
       "      <td>NaN</td>\n",
       "      <td>NaN</td>\n",
       "      <td>Moving Violation</td>\n",
       "      <td>Citation</td>\n",
       "      <td>WHITE</td>\n",
       "    </tr>\n",
       "    <tr>\n",
       "      <th>1</th>\n",
       "      <td>42.0</td>\n",
       "      <td>white</td>\n",
       "      <td>male</td>\n",
       "      <td>False</td>\n",
       "      <td>False</td>\n",
       "      <td>True</td>\n",
       "      <td>warning</td>\n",
       "      <td>NaN</td>\n",
       "      <td>False</td>\n",
       "      <td>False</td>\n",
       "      <td>False</td>\n",
       "      <td>NaN</td>\n",
       "      <td>NaN</td>\n",
       "      <td>Moving Violation</td>\n",
       "      <td>Verbal Warning</td>\n",
       "      <td>WHITE</td>\n",
       "    </tr>\n",
       "    <tr>\n",
       "      <th>2</th>\n",
       "      <td>29.0</td>\n",
       "      <td>asian/pacific islander</td>\n",
       "      <td>male</td>\n",
       "      <td>False</td>\n",
       "      <td>False</td>\n",
       "      <td>True</td>\n",
       "      <td>warning</td>\n",
       "      <td>NaN</td>\n",
       "      <td>False</td>\n",
       "      <td>False</td>\n",
       "      <td>False</td>\n",
       "      <td>NaN</td>\n",
       "      <td>NaN</td>\n",
       "      <td>Moving Violation</td>\n",
       "      <td>Verbal Warning</td>\n",
       "      <td>LAOTIAN</td>\n",
       "    </tr>\n",
       "    <tr>\n",
       "      <th>3</th>\n",
       "      <td>23.0</td>\n",
       "      <td>white</td>\n",
       "      <td>male</td>\n",
       "      <td>False</td>\n",
       "      <td>True</td>\n",
       "      <td>False</td>\n",
       "      <td>citation</td>\n",
       "      <td>NaN</td>\n",
       "      <td>False</td>\n",
       "      <td>False</td>\n",
       "      <td>False</td>\n",
       "      <td>NaN</td>\n",
       "      <td>NaN</td>\n",
       "      <td>Moving Violation</td>\n",
       "      <td>Citation</td>\n",
       "      <td>WHITE</td>\n",
       "    </tr>\n",
       "    <tr>\n",
       "      <th>4</th>\n",
       "      <td>35.0</td>\n",
       "      <td>hispanic</td>\n",
       "      <td>male</td>\n",
       "      <td>False</td>\n",
       "      <td>True</td>\n",
       "      <td>False</td>\n",
       "      <td>citation</td>\n",
       "      <td>NaN</td>\n",
       "      <td>False</td>\n",
       "      <td>False</td>\n",
       "      <td>False</td>\n",
       "      <td>NaN</td>\n",
       "      <td>NaN</td>\n",
       "      <td>Equipment Violation</td>\n",
       "      <td>Citation</td>\n",
       "      <td>HISPANIC</td>\n",
       "    </tr>\n",
       "    <tr>\n",
       "      <th>...</th>\n",
       "      <td>...</td>\n",
       "      <td>...</td>\n",
       "      <td>...</td>\n",
       "      <td>...</td>\n",
       "      <td>...</td>\n",
       "      <td>...</td>\n",
       "      <td>...</td>\n",
       "      <td>...</td>\n",
       "      <td>...</td>\n",
       "      <td>...</td>\n",
       "      <td>...</td>\n",
       "      <td>...</td>\n",
       "      <td>...</td>\n",
       "      <td>...</td>\n",
       "      <td>...</td>\n",
       "      <td>...</td>\n",
       "    </tr>\n",
       "    <tr>\n",
       "      <th>383022</th>\n",
       "      <td>NaN</td>\n",
       "      <td>NaN</td>\n",
       "      <td>NaN</td>\n",
       "      <td>NaN</td>\n",
       "      <td>True</td>\n",
       "      <td>True</td>\n",
       "      <td>citation</td>\n",
       "      <td>NaN</td>\n",
       "      <td>False</td>\n",
       "      <td>False</td>\n",
       "      <td>False</td>\n",
       "      <td>NaN</td>\n",
       "      <td>NaN</td>\n",
       "      <td>NA|Equipment Violation|NA|NA|NA|NA|NA|Moving V...</td>\n",
       "      <td>Verbal Warning|NA|Citation|Citation|NA|NA|NA|C...</td>\n",
       "      <td>NaN</td>\n",
       "    </tr>\n",
       "    <tr>\n",
       "      <th>383023</th>\n",
       "      <td>NaN</td>\n",
       "      <td>NaN</td>\n",
       "      <td>NaN</td>\n",
       "      <td>NaN</td>\n",
       "      <td>True</td>\n",
       "      <td>False</td>\n",
       "      <td>citation</td>\n",
       "      <td>NaN</td>\n",
       "      <td>False</td>\n",
       "      <td>False</td>\n",
       "      <td>False</td>\n",
       "      <td>NaN</td>\n",
       "      <td>NaN</td>\n",
       "      <td>NA|Moving Violation</td>\n",
       "      <td>NA|Citation</td>\n",
       "      <td>NaN</td>\n",
       "    </tr>\n",
       "    <tr>\n",
       "      <th>383024</th>\n",
       "      <td>NaN</td>\n",
       "      <td>NaN</td>\n",
       "      <td>NaN</td>\n",
       "      <td>False</td>\n",
       "      <td>True</td>\n",
       "      <td>False</td>\n",
       "      <td>citation</td>\n",
       "      <td>NaN</td>\n",
       "      <td>False</td>\n",
       "      <td>False</td>\n",
       "      <td>False</td>\n",
       "      <td>NaN</td>\n",
       "      <td>NaN</td>\n",
       "      <td>Moving Violation</td>\n",
       "      <td>Citation</td>\n",
       "      <td>NaN</td>\n",
       "    </tr>\n",
       "    <tr>\n",
       "      <th>383025</th>\n",
       "      <td>NaN</td>\n",
       "      <td>NaN</td>\n",
       "      <td>NaN</td>\n",
       "      <td>NaN</td>\n",
       "      <td>True</td>\n",
       "      <td>False</td>\n",
       "      <td>citation</td>\n",
       "      <td>NaN</td>\n",
       "      <td>False</td>\n",
       "      <td>False</td>\n",
       "      <td>False</td>\n",
       "      <td>NaN</td>\n",
       "      <td>NaN</td>\n",
       "      <td>Moving Violation</td>\n",
       "      <td>Citation|NA</td>\n",
       "      <td>NaN</td>\n",
       "    </tr>\n",
       "    <tr>\n",
       "      <th>383026</th>\n",
       "      <td>NaN</td>\n",
       "      <td>NaN</td>\n",
       "      <td>NaN</td>\n",
       "      <td>NaN</td>\n",
       "      <td>True</td>\n",
       "      <td>False</td>\n",
       "      <td>citation</td>\n",
       "      <td>NaN</td>\n",
       "      <td>False</td>\n",
       "      <td>False</td>\n",
       "      <td>False</td>\n",
       "      <td>NaN</td>\n",
       "      <td>NaN</td>\n",
       "      <td>Moving Violation|Moving Violation|Moving Viola...</td>\n",
       "      <td>NA|NA|NA|NA|Citation|Citation|NA|Citation|NA|NA</td>\n",
       "      <td>NaN</td>\n",
       "    </tr>\n",
       "  </tbody>\n",
       "</table>\n",
       "<p>383027 rows × 16 columns</p>\n",
       "</div>"
      ],
      "text/plain": [
       "        subject_age            subject_race subject_sex arrest_made  \\\n",
       "0              24.0                   white        male       False   \n",
       "1              42.0                   white        male       False   \n",
       "2              29.0  asian/pacific islander        male       False   \n",
       "3              23.0                   white        male       False   \n",
       "4              35.0                hispanic        male       False   \n",
       "...             ...                     ...         ...         ...   \n",
       "383022          NaN                     NaN         NaN         NaN   \n",
       "383023          NaN                     NaN         NaN         NaN   \n",
       "383024          NaN                     NaN         NaN       False   \n",
       "383025          NaN                     NaN         NaN         NaN   \n",
       "383026          NaN                     NaN         NaN         NaN   \n",
       "\n",
       "       citation_issued warning_issued   outcome contraband_found  \\\n",
       "0                 True          False  citation              NaN   \n",
       "1                False           True   warning              NaN   \n",
       "2                False           True   warning              NaN   \n",
       "3                 True          False  citation              NaN   \n",
       "4                 True          False  citation              NaN   \n",
       "...                ...            ...       ...              ...   \n",
       "383022            True           True  citation              NaN   \n",
       "383023            True          False  citation              NaN   \n",
       "383024            True          False  citation              NaN   \n",
       "383025            True          False  citation              NaN   \n",
       "383026            True          False  citation              NaN   \n",
       "\n",
       "        search_conducted search_person search_vehicle search_basis  \\\n",
       "0                  False         False          False          NaN   \n",
       "1                  False         False          False          NaN   \n",
       "2                  False         False          False          NaN   \n",
       "3                  False         False          False          NaN   \n",
       "4                  False         False          False          NaN   \n",
       "...                  ...           ...            ...          ...   \n",
       "383022             False         False          False          NaN   \n",
       "383023             False         False          False          NaN   \n",
       "383024             False         False          False          NaN   \n",
       "383025             False         False          False          NaN   \n",
       "383026             False         False          False          NaN   \n",
       "\n",
       "       reason_for_search                                    reason_for_stop  \\\n",
       "0                    NaN                                   Moving Violation   \n",
       "1                    NaN                                   Moving Violation   \n",
       "2                    NaN                                   Moving Violation   \n",
       "3                    NaN                                   Moving Violation   \n",
       "4                    NaN                                Equipment Violation   \n",
       "...                  ...                                                ...   \n",
       "383022               NaN  NA|Equipment Violation|NA|NA|NA|NA|NA|Moving V...   \n",
       "383023               NaN                                NA|Moving Violation   \n",
       "383024               NaN                                   Moving Violation   \n",
       "383025               NaN                                   Moving Violation   \n",
       "383026               NaN  Moving Violation|Moving Violation|Moving Viola...   \n",
       "\n",
       "                                         raw_action_taken  \\\n",
       "0                                                Citation   \n",
       "1                                          Verbal Warning   \n",
       "2                                          Verbal Warning   \n",
       "3                                                Citation   \n",
       "4                                                Citation   \n",
       "...                                                   ...   \n",
       "383022  Verbal Warning|NA|Citation|Citation|NA|NA|NA|C...   \n",
       "383023                                        NA|Citation   \n",
       "383024                                           Citation   \n",
       "383025                                        Citation|NA   \n",
       "383026    NA|NA|NA|NA|Citation|Citation|NA|Citation|NA|NA   \n",
       "\n",
       "       raw_subject_race_description  \n",
       "0                             WHITE  \n",
       "1                             WHITE  \n",
       "2                           LAOTIAN  \n",
       "3                             WHITE  \n",
       "4                          HISPANIC  \n",
       "...                             ...  \n",
       "383022                          NaN  \n",
       "383023                          NaN  \n",
       "383024                          NaN  \n",
       "383025                          NaN  \n",
       "383026                          NaN  \n",
       "\n",
       "[383027 rows x 16 columns]"
      ]
     },
     "execution_count": 18,
     "metadata": {},
     "output_type": "execute_result"
    }
   ],
   "source": [
    "data.drop(columns = [\"raw_row_number\", \"type\", \"date\", \"time\", \"service_area\"])"
   ]
  },
  {
   "cell_type": "code",
   "execution_count": 40,
   "id": "5e48b468-45e6-4a0e-9181-27a3d0ef57a5",
   "metadata": {},
   "outputs": [
    {
     "name": "stdout",
     "output_type": "stream",
     "text": [
      "['Consent Search', 'Search Incident To Arrest', 'Inventory Search']\n",
      "['NA', 'Consent Search']\n",
      "['Search incident to Arrest', 'Inventory Search']\n",
      "['Contraband Visible', 'Inventory Search', 'Other']\n",
      "['Search Incident To Arrest', 'Inventory Search', 'Other']\n",
      "['-h Waiver Search', 'Other']\n",
      "['Search Incident To Arrest', 'Inventory Search']\n",
      "['Other, PER DET ON CASE', 'VEH IMPOUNDED FOR EVIDENCE']\n",
      "['Contraband Visible', 'Search Incident To Arrest']\n",
      "['Search Incident To Arrest', 'Other']\n",
      "['Consent Search', 'Search Incident To Arrest']\n",
      "['NA', 'Odor of Contraband', 'Contraband Visible', 'Consent Search']\n",
      "['Odor of Contraband', 'Contraband Visible', 'Inventory Search']\n",
      "['-h Waiver Search', 'Search Incident To Arrest']\n",
      "['-h Waiver Search', 'Search Incident To Arrest', 'Evid of Criminal Activity']\n",
      "['Consent Search', 'Search Incident To Arrest', 'Other']\n",
      "['Consent Search', '-h Waiver Search', 'Search Incident To Arrest']\n",
      "['Odor of Contraband', 'Inventory Search', 'Evid of Criminal Activity']\n",
      "['Odor of Contraband', 'Search Incident To Arrest']\n",
      "['Contraband Visible', 'Evid of Criminal Activity']\n",
      "['Odor of Contraband', 'Consent Search']\n",
      "['Contraband Visible', 'Search Incident To Arrest', 'Inventory Search']\n",
      "['Contraband Visible', '-h Waiver Search']\n",
      "['Search Incident To Arrest', 'Evid of Criminal Activity']\n",
      "['Consent Search', 'Consent Search']\n",
      "['Consent Search', '-h Waiver Search']\n",
      "['Contraband Visible', '-h Waiver Search', 'Search Incident To Arrest']\n",
      "['Odor of Contraband', 'Search Incident To Arrest', 'Inventory Search']\n",
      "['Search Incident To Arrest', 'Search Incident To Arrest']\n",
      "['Search incident to Arrest', 'Search Incident To Arrest']\n",
      "['Search incident to Arrest, PERSON/VEHICLE', 'Search incident to Arrest, PERSON/VEHICLE']\n",
      "['Other, PERSUANT TO -----A CVC', 'Other, PERSUANT TO -----A CVC']\n",
      "['Search incident to Arrest', 'Search incident to Arrest']\n",
      "['-th Waiver Search', '-th Waiver Search']\n",
      "['Inventory Search [Prior to Impound]', 'Inventory Search [Prior to Impound]']\n",
      "['Search Incident To Arrest', 'Search Incident To Arrest', 'Search incident to Arrest']\n",
      "['Contraband Visible', 'Canine Alert']\n",
      "['Search incident to Arrest, SIA', 'IMPOUND']\n"
     ]
    }
   ],
   "source": [
    "for string in data[data[\"arrest_made\"] == True][\"reason_for_search\"].unique():\n",
    "    if type(string) == str and '|' in string:\n",
    "        print(string.split('|'))"
   ]
  },
  {
   "cell_type": "markdown",
   "id": "f9a68e26-2383-456c-8446-d05b017eb194",
   "metadata": {},
   "source": [
    "Preview the dataset."
   ]
  },
  {
   "cell_type": "code",
   "execution_count": 4,
   "id": "99eebc58-dde6-4dd7-bcb2-cf15c3e926f1",
   "metadata": {},
   "outputs": [
    {
     "data": {
      "text/html": [
       "<div>\n",
       "<style scoped>\n",
       "    .dataframe tbody tr th:only-of-type {\n",
       "        vertical-align: middle;\n",
       "    }\n",
       "\n",
       "    .dataframe tbody tr th {\n",
       "        vertical-align: top;\n",
       "    }\n",
       "\n",
       "    .dataframe thead th {\n",
       "        text-align: right;\n",
       "    }\n",
       "</style>\n",
       "<table border=\"1\" class=\"dataframe\">\n",
       "  <thead>\n",
       "    <tr style=\"text-align: right;\">\n",
       "      <th></th>\n",
       "      <th>raw_row_number</th>\n",
       "      <th>date</th>\n",
       "      <th>time</th>\n",
       "      <th>service_area</th>\n",
       "      <th>subject_age</th>\n",
       "      <th>subject_race</th>\n",
       "      <th>subject_sex</th>\n",
       "      <th>type</th>\n",
       "      <th>arrest_made</th>\n",
       "      <th>citation_issued</th>\n",
       "      <th>...</th>\n",
       "      <th>outcome</th>\n",
       "      <th>contraband_found</th>\n",
       "      <th>search_conducted</th>\n",
       "      <th>search_person</th>\n",
       "      <th>search_vehicle</th>\n",
       "      <th>search_basis</th>\n",
       "      <th>reason_for_search</th>\n",
       "      <th>reason_for_stop</th>\n",
       "      <th>raw_action_taken</th>\n",
       "      <th>raw_subject_race_description</th>\n",
       "    </tr>\n",
       "  </thead>\n",
       "  <tbody>\n",
       "    <tr>\n",
       "      <th>0</th>\n",
       "      <td>1</td>\n",
       "      <td>2014-01-01</td>\n",
       "      <td>01:25:00</td>\n",
       "      <td>110</td>\n",
       "      <td>24.0</td>\n",
       "      <td>white</td>\n",
       "      <td>male</td>\n",
       "      <td>vehicular</td>\n",
       "      <td>False</td>\n",
       "      <td>True</td>\n",
       "      <td>...</td>\n",
       "      <td>citation</td>\n",
       "      <td>NaN</td>\n",
       "      <td>False</td>\n",
       "      <td>False</td>\n",
       "      <td>False</td>\n",
       "      <td>NaN</td>\n",
       "      <td>NaN</td>\n",
       "      <td>Moving Violation</td>\n",
       "      <td>Citation</td>\n",
       "      <td>WHITE</td>\n",
       "    </tr>\n",
       "    <tr>\n",
       "      <th>1</th>\n",
       "      <td>2</td>\n",
       "      <td>2014-01-01</td>\n",
       "      <td>05:47:00</td>\n",
       "      <td>320</td>\n",
       "      <td>42.0</td>\n",
       "      <td>white</td>\n",
       "      <td>male</td>\n",
       "      <td>vehicular</td>\n",
       "      <td>False</td>\n",
       "      <td>False</td>\n",
       "      <td>...</td>\n",
       "      <td>warning</td>\n",
       "      <td>NaN</td>\n",
       "      <td>False</td>\n",
       "      <td>False</td>\n",
       "      <td>False</td>\n",
       "      <td>NaN</td>\n",
       "      <td>NaN</td>\n",
       "      <td>Moving Violation</td>\n",
       "      <td>Verbal Warning</td>\n",
       "      <td>WHITE</td>\n",
       "    </tr>\n",
       "    <tr>\n",
       "      <th>2</th>\n",
       "      <td>3</td>\n",
       "      <td>2014-01-01</td>\n",
       "      <td>07:46:00</td>\n",
       "      <td>320</td>\n",
       "      <td>29.0</td>\n",
       "      <td>asian/pacific islander</td>\n",
       "      <td>male</td>\n",
       "      <td>vehicular</td>\n",
       "      <td>False</td>\n",
       "      <td>False</td>\n",
       "      <td>...</td>\n",
       "      <td>warning</td>\n",
       "      <td>NaN</td>\n",
       "      <td>False</td>\n",
       "      <td>False</td>\n",
       "      <td>False</td>\n",
       "      <td>NaN</td>\n",
       "      <td>NaN</td>\n",
       "      <td>Moving Violation</td>\n",
       "      <td>Verbal Warning</td>\n",
       "      <td>LAOTIAN</td>\n",
       "    </tr>\n",
       "    <tr>\n",
       "      <th>3</th>\n",
       "      <td>4</td>\n",
       "      <td>2014-01-01</td>\n",
       "      <td>08:10:00</td>\n",
       "      <td>610</td>\n",
       "      <td>23.0</td>\n",
       "      <td>white</td>\n",
       "      <td>male</td>\n",
       "      <td>vehicular</td>\n",
       "      <td>False</td>\n",
       "      <td>True</td>\n",
       "      <td>...</td>\n",
       "      <td>citation</td>\n",
       "      <td>NaN</td>\n",
       "      <td>False</td>\n",
       "      <td>False</td>\n",
       "      <td>False</td>\n",
       "      <td>NaN</td>\n",
       "      <td>NaN</td>\n",
       "      <td>Moving Violation</td>\n",
       "      <td>Citation</td>\n",
       "      <td>WHITE</td>\n",
       "    </tr>\n",
       "    <tr>\n",
       "      <th>4</th>\n",
       "      <td>5</td>\n",
       "      <td>2014-01-01</td>\n",
       "      <td>08:35:00</td>\n",
       "      <td>930</td>\n",
       "      <td>35.0</td>\n",
       "      <td>hispanic</td>\n",
       "      <td>male</td>\n",
       "      <td>vehicular</td>\n",
       "      <td>False</td>\n",
       "      <td>True</td>\n",
       "      <td>...</td>\n",
       "      <td>citation</td>\n",
       "      <td>NaN</td>\n",
       "      <td>False</td>\n",
       "      <td>False</td>\n",
       "      <td>False</td>\n",
       "      <td>NaN</td>\n",
       "      <td>NaN</td>\n",
       "      <td>Equipment Violation</td>\n",
       "      <td>Citation</td>\n",
       "      <td>HISPANIC</td>\n",
       "    </tr>\n",
       "  </tbody>\n",
       "</table>\n",
       "<p>5 rows × 21 columns</p>\n",
       "</div>"
      ],
      "text/plain": [
       "  raw_row_number        date      time service_area  subject_age  \\\n",
       "0              1  2014-01-01  01:25:00          110         24.0   \n",
       "1              2  2014-01-01  05:47:00          320         42.0   \n",
       "2              3  2014-01-01  07:46:00          320         29.0   \n",
       "3              4  2014-01-01  08:10:00          610         23.0   \n",
       "4              5  2014-01-01  08:35:00          930         35.0   \n",
       "\n",
       "             subject_race subject_sex       type arrest_made citation_issued  \\\n",
       "0                   white        male  vehicular       False            True   \n",
       "1                   white        male  vehicular       False           False   \n",
       "2  asian/pacific islander        male  vehicular       False           False   \n",
       "3                   white        male  vehicular       False            True   \n",
       "4                hispanic        male  vehicular       False            True   \n",
       "\n",
       "   ...   outcome contraband_found search_conducted  search_person  \\\n",
       "0  ...  citation              NaN            False          False   \n",
       "1  ...   warning              NaN            False          False   \n",
       "2  ...   warning              NaN            False          False   \n",
       "3  ...  citation              NaN            False          False   \n",
       "4  ...  citation              NaN            False          False   \n",
       "\n",
       "  search_vehicle search_basis reason_for_search      reason_for_stop  \\\n",
       "0          False          NaN               NaN     Moving Violation   \n",
       "1          False          NaN               NaN     Moving Violation   \n",
       "2          False          NaN               NaN     Moving Violation   \n",
       "3          False          NaN               NaN     Moving Violation   \n",
       "4          False          NaN               NaN  Equipment Violation   \n",
       "\n",
       "  raw_action_taken raw_subject_race_description  \n",
       "0         Citation                        WHITE  \n",
       "1   Verbal Warning                        WHITE  \n",
       "2   Verbal Warning                      LAOTIAN  \n",
       "3         Citation                        WHITE  \n",
       "4         Citation                     HISPANIC  \n",
       "\n",
       "[5 rows x 21 columns]"
      ]
     },
     "execution_count": 4,
     "metadata": {},
     "output_type": "execute_result"
    }
   ],
   "source": [
    "data.head()"
   ]
  },
  {
   "cell_type": "markdown",
   "id": "cd754b2e-937e-4ca6-886f-30d5dc60fcba",
   "metadata": {},
   "source": [
    "Fetch proportions for subject race."
   ]
  },
  {
   "cell_type": "code",
   "execution_count": 5,
   "id": "d2a5c875-8dce-40ca-a68d-cfb7a616186d",
   "metadata": {},
   "outputs": [
    {
     "data": {
      "text/plain": [
       "white                     0.424906\n",
       "hispanic                  0.306666\n",
       "black                     0.111854\n",
       "asian/pacific islander    0.085232\n",
       "other                     0.071342\n",
       "Name: subject_race, dtype: float64"
      ]
     },
     "execution_count": 5,
     "metadata": {},
     "output_type": "execute_result"
    }
   ],
   "source": [
    "data[\"subject_race\"].value_counts(normalize = True)"
   ]
  },
  {
   "cell_type": "markdown",
   "id": "be38ef17-561a-49ac-92a9-f736ea97bdf6",
   "metadata": {},
   "source": [
    "Fetch mean for proportions of subject race."
   ]
  },
  {
   "cell_type": "code",
   "execution_count": 6,
   "id": "441687d0-2c6c-4a98-ab5e-14b84049b4bd",
   "metadata": {},
   "outputs": [
    {
     "data": {
      "text/plain": [
       "0.2"
      ]
     },
     "execution_count": 6,
     "metadata": {},
     "output_type": "execute_result"
    }
   ],
   "source": [
    "data[\"subject_race\"].value_counts(normalize = True).mean()"
   ]
  },
  {
   "cell_type": "markdown",
   "id": "b274a8c3-d921-4711-9e57-5e93723a1c43",
   "metadata": {},
   "source": [
    "Fetch standard deviation for proportions of subject race."
   ]
  },
  {
   "cell_type": "code",
   "execution_count": 7,
   "id": "08cf2fa8-5e5d-423d-9005-c6939324a2a3",
   "metadata": {},
   "outputs": [
    {
     "data": {
      "text/plain": [
       "0.15768200043726557"
      ]
     },
     "execution_count": 7,
     "metadata": {},
     "output_type": "execute_result"
    }
   ],
   "source": [
    "data[\"subject_race\"].value_counts(normalize = True).std()"
   ]
  },
  {
   "cell_type": "markdown",
   "id": "4758ded8-1f56-4c37-9339-d4aa97b94096",
   "metadata": {},
   "source": [
    "Plot a bar chart for subject race frequency."
   ]
  },
  {
   "cell_type": "code",
   "execution_count": 8,
   "id": "2658951d-0af6-437b-b86f-84dd11fa5236",
   "metadata": {},
   "outputs": [
    {
     "data": {
      "text/plain": [
       "Text(0, 0.5, 'Frequency')"
      ]
     },
     "execution_count": 8,
     "metadata": {},
     "output_type": "execute_result"
    },
    {
     "data": {
      "image/png": "[encoded data removed]",
      "text/plain": [
       "<Figure size 800x600 with 1 Axes>"
      ]
     },
     "metadata": {
      "needs_background": "light"
     },
     "output_type": "display_data"
    }
   ],
   "source": [
    "plt.figure(figsize = (8, 6), dpi = 100)\n",
    "plt.rc(\"axes\", titlesize = 15)\n",
    "plt.rc(\"axes\", labelsize = 15)\n",
    "plt.bar(\n",
    "    data[\"subject_race\"].value_counts().index, \n",
    "    data[\"subject_race\"].value_counts(), \n",
    "    color = [\"red\", \"blue\", \"yellow\", \"green\", \"gray\"], \n",
    "    edgecolor = \"black\",\n",
    "    alpha = 0.6\n",
    ")\n",
    "plt.title(\"Subject Race Frequency\")\n",
    "plt.xlabel(\"Race\")\n",
    "plt.ylabel(\"Frequency\")"
   ]
  },
  {
   "cell_type": "markdown",
   "id": "f3c0b64e-8714-4a01-8747-110c70724d8e",
   "metadata": {},
   "source": [
    "Fetch value counts for traffic stop outcomes."
   ]
  },
  {
   "cell_type": "code",
   "execution_count": 9,
   "id": "b740681b-5c1e-4214-9865-d038c9fb2d07",
   "metadata": {},
   "outputs": [
    {
     "data": {
      "text/plain": [
       "citation    219712\n",
       "warning     119328\n",
       "arrest        4815\n",
       "Name: outcome, dtype: int64"
      ]
     },
     "execution_count": 9,
     "metadata": {},
     "output_type": "execute_result"
    }
   ],
   "source": [
    "data[\"outcome\"].value_counts()"
   ]
  },
  {
   "cell_type": "markdown",
   "id": "6e77674d-805d-48c6-a697-96a472515376",
   "metadata": {},
   "source": [
    "Fetch proportions for race of subjects who were arrested."
   ]
  },
  {
   "cell_type": "code",
   "execution_count": 10,
   "id": "f3a8e005-2fd3-4c46-96a5-4328752462fd",
   "metadata": {},
   "outputs": [
    {
     "data": {
      "text/plain": [
       "white                     0.368115\n",
       "hispanic                  0.356267\n",
       "black                     0.178133\n",
       "asian/pacific islander    0.064228\n",
       "other                     0.033257\n",
       "Name: subject_race, dtype: float64"
      ]
     },
     "execution_count": 10,
     "metadata": {},
     "output_type": "execute_result"
    }
   ],
   "source": [
    "arrests = data[data[\"outcome\"] == \"arrest\"]\n",
    "arrests[\"subject_race\"].value_counts(normalize = True)"
   ]
  },
  {
   "cell_type": "markdown",
   "id": "510fccdf-2110-4ac1-b62c-f0410ea44ea9",
   "metadata": {},
   "source": [
    "Fetch mean for proportions of race of subjects who were arrested."
   ]
  },
  {
   "cell_type": "code",
   "execution_count": 11,
   "id": "226074ae-f117-491b-b3e2-a281dedbc38e",
   "metadata": {},
   "outputs": [
    {
     "data": {
      "text/plain": [
       "0.2"
      ]
     },
     "execution_count": 11,
     "metadata": {},
     "output_type": "execute_result"
    }
   ],
   "source": [
    "arrests[\"subject_race\"].value_counts(normalize = True).mean()"
   ]
  },
  {
   "cell_type": "markdown",
   "id": "4129b34a-fe5f-420c-b53e-68b3e6ae6ad9",
   "metadata": {},
   "source": [
    "Fetch standard deviation for proportions of race of subjects who were arrested."
   ]
  },
  {
   "cell_type": "code",
   "execution_count": 12,
   "id": "410ff684-8569-4773-b545-ec68e6dea00a",
   "metadata": {},
   "outputs": [
    {
     "data": {
      "text/plain": [
       "0.1576367081679054"
      ]
     },
     "execution_count": 12,
     "metadata": {},
     "output_type": "execute_result"
    }
   ],
   "source": [
    "arrests[\"subject_race\"].value_counts(normalize = True).std()"
   ]
  },
  {
   "cell_type": "markdown",
   "id": "556ca64f-b116-4d68-8350-aac1a522a5d9",
   "metadata": {},
   "source": [
    "Plot a bar chart for race frequency of subjects who were arrested."
   ]
  },
  {
   "cell_type": "code",
   "execution_count": 13,
   "id": "918d4dca-9902-4c63-90ea-e87dbc14bf4e",
   "metadata": {},
   "outputs": [
    {
     "data": {
      "text/plain": [
       "Text(0, 0.5, 'Frequency')"
      ]
     },
     "execution_count": 13,
     "metadata": {},
     "output_type": "execute_result"
    },
    {
     "data": {
      "image/png": "[encoded data removed]",
      "text/plain": [
       "<Figure size 800x600 with 1 Axes>"
      ]
     },
     "metadata": {
      "needs_background": "light"
     },
     "output_type": "display_data"
    }
   ],
   "source": [
    "plt.figure(figsize = (8, 6), dpi = 100)\n",
    "#plt.rc(\"font\", size = 11)\n",
    "plt.rc(\"axes\", titlesize = 15)\n",
    "plt.rc(\"axes\", labelsize = 15)\n",
    "plt.bar(\n",
    "    arrests[\"subject_race\"].value_counts().index, \n",
    "    arrests[\"subject_race\"].value_counts(),\n",
    "    color = [\"red\", \"blue\", \"yellow\", \"green\", \"gray\"],\n",
    "    edgecolor = \"black\",\n",
    "    alpha = 0.6\n",
    ")\n",
    "plt.title(\"Arrested Subject Race Frequency\")\n",
    "plt.xlabel(\"Race\")\n",
    "plt.ylabel(\"Frequency\")"
   ]
  },
  {
   "cell_type": "markdown",
   "id": "73294d94-f457-489c-b29f-38aec803fc63",
   "metadata": {},
   "source": [
    "Make a pivot table displaying counts of arrests made conditioned on whether or not contraband was found and subject race."
   ]
  },
  {
   "cell_type": "code",
   "execution_count": 14,
   "id": "98ddfde5-58e1-47ca-9ddb-8b462ec0fa59",
   "metadata": {},
   "outputs": [
    {
     "data": {
      "text/html": [
       "<div>\n",
       "<style scoped>\n",
       "    .dataframe tbody tr th:only-of-type {\n",
       "        vertical-align: middle;\n",
       "    }\n",
       "\n",
       "    .dataframe tbody tr th {\n",
       "        vertical-align: top;\n",
       "    }\n",
       "\n",
       "    .dataframe thead th {\n",
       "        text-align: right;\n",
       "    }\n",
       "</style>\n",
       "<table border=\"1\" class=\"dataframe\">\n",
       "  <thead>\n",
       "    <tr style=\"text-align: right;\">\n",
       "      <th></th>\n",
       "      <th>arrest_made</th>\n",
       "      <th>False</th>\n",
       "      <th>True</th>\n",
       "    </tr>\n",
       "    <tr>\n",
       "      <th>subject_race</th>\n",
       "      <th>contraband_found</th>\n",
       "      <th></th>\n",
       "      <th></th>\n",
       "    </tr>\n",
       "  </thead>\n",
       "  <tbody>\n",
       "    <tr>\n",
       "      <th rowspan=\"2\" valign=\"top\">asian/pacific islander</th>\n",
       "      <th>False</th>\n",
       "      <td>630</td>\n",
       "      <td>180</td>\n",
       "    </tr>\n",
       "    <tr>\n",
       "      <th>True</th>\n",
       "      <td>43</td>\n",
       "      <td>52</td>\n",
       "    </tr>\n",
       "    <tr>\n",
       "      <th rowspan=\"2\" valign=\"top\">black</th>\n",
       "      <th>False</th>\n",
       "      <td>2929</td>\n",
       "      <td>572</td>\n",
       "    </tr>\n",
       "    <tr>\n",
       "      <th>True</th>\n",
       "      <td>187</td>\n",
       "      <td>173</td>\n",
       "    </tr>\n",
       "    <tr>\n",
       "      <th rowspan=\"2\" valign=\"top\">hispanic</th>\n",
       "      <th>False</th>\n",
       "      <td>4818</td>\n",
       "      <td>1130</td>\n",
       "    </tr>\n",
       "    <tr>\n",
       "      <th>True</th>\n",
       "      <td>217</td>\n",
       "      <td>310</td>\n",
       "    </tr>\n",
       "    <tr>\n",
       "      <th rowspan=\"2\" valign=\"top\">other</th>\n",
       "      <th>False</th>\n",
       "      <td>322</td>\n",
       "      <td>84</td>\n",
       "    </tr>\n",
       "    <tr>\n",
       "      <th>True</th>\n",
       "      <td>23</td>\n",
       "      <td>20</td>\n",
       "    </tr>\n",
       "    <tr>\n",
       "      <th rowspan=\"2\" valign=\"top\">white</th>\n",
       "      <th>False</th>\n",
       "      <td>2904</td>\n",
       "      <td>1068</td>\n",
       "    </tr>\n",
       "    <tr>\n",
       "      <th>True</th>\n",
       "      <td>209</td>\n",
       "      <td>307</td>\n",
       "    </tr>\n",
       "  </tbody>\n",
       "</table>\n",
       "</div>"
      ],
      "text/plain": [
       "arrest_made                              False  True\n",
       "subject_race           contraband_found             \n",
       "asian/pacific islander False               630   180\n",
       "                       True                 43    52\n",
       "black                  False              2929   572\n",
       "                       True                187   173\n",
       "hispanic               False              4818  1130\n",
       "                       True                217   310\n",
       "other                  False               322    84\n",
       "                       True                 23    20\n",
       "white                  False              2904  1068\n",
       "                       True                209   307"
      ]
     },
     "execution_count": 14,
     "metadata": {},
     "output_type": "execute_result"
    }
   ],
   "source": [
    "new_data = data.copy()\n",
    "new_data = new_data.dropna(subset = [\"contraband_found\"], axis = 0)\n",
    "pivot = new_data[[\"subject_race\", \"contraband_found\", \"arrest_made\"]].pivot_table(\n",
    "    index = [\"subject_race\", \"contraband_found\"],\n",
    "    columns = \"arrest_made\",\n",
    "    aggfunc = \"size\"\n",
    ")\n",
    "pivot"
   ]
  },
  {
   "cell_type": "code",
   "execution_count": 15,
   "id": "84f81d41-ae57-4087-929c-d2ae50828f2b",
   "metadata": {},
   "outputs": [],
   "source": [
    "pivot_ratios = pivot.copy()\n",
    "pivot_sums = pivot.sum(axis = 1)\n",
    "for indices in pivot.index:\n",
    "    pivot_ratios.loc[indices] /= pivot_sums[indices]"
   ]
  },
  {
   "cell_type": "markdown",
   "id": "68904e3f-0b6b-4dbc-a683-1b8222b28770",
   "metadata": {},
   "source": [
    "Convert pivot table counts into proportions in each group."
   ]
  },
  {
   "cell_type": "code",
   "execution_count": 16,
   "id": "e7de17ae-20c2-433d-82da-232ba08ad5f7",
   "metadata": {},
   "outputs": [
    {
     "data": {
      "text/html": [
       "<div>\n",
       "<style scoped>\n",
       "    .dataframe tbody tr th:only-of-type {\n",
       "        vertical-align: middle;\n",
       "    }\n",
       "\n",
       "    .dataframe tbody tr th {\n",
       "        vertical-align: top;\n",
       "    }\n",
       "\n",
       "    .dataframe thead th {\n",
       "        text-align: right;\n",
       "    }\n",
       "</style>\n",
       "<table border=\"1\" class=\"dataframe\">\n",
       "  <thead>\n",
       "    <tr style=\"text-align: right;\">\n",
       "      <th></th>\n",
       "      <th>arrest_made</th>\n",
       "      <th>False</th>\n",
       "      <th>True</th>\n",
       "    </tr>\n",
       "    <tr>\n",
       "      <th>subject_race</th>\n",
       "      <th>contraband_found</th>\n",
       "      <th></th>\n",
       "      <th></th>\n",
       "    </tr>\n",
       "  </thead>\n",
       "  <tbody>\n",
       "    <tr>\n",
       "      <th rowspan=\"2\" valign=\"top\">asian/pacific islander</th>\n",
       "      <th>False</th>\n",
       "      <td>0.777778</td>\n",
       "      <td>0.222222</td>\n",
       "    </tr>\n",
       "    <tr>\n",
       "      <th>True</th>\n",
       "      <td>0.452632</td>\n",
       "      <td>0.547368</td>\n",
       "    </tr>\n",
       "    <tr>\n",
       "      <th rowspan=\"2\" valign=\"top\">black</th>\n",
       "      <th>False</th>\n",
       "      <td>0.836618</td>\n",
       "      <td>0.163382</td>\n",
       "    </tr>\n",
       "    <tr>\n",
       "      <th>True</th>\n",
       "      <td>0.519444</td>\n",
       "      <td>0.480556</td>\n",
       "    </tr>\n",
       "    <tr>\n",
       "      <th rowspan=\"2\" valign=\"top\">hispanic</th>\n",
       "      <th>False</th>\n",
       "      <td>0.810020</td>\n",
       "      <td>0.189980</td>\n",
       "    </tr>\n",
       "    <tr>\n",
       "      <th>True</th>\n",
       "      <td>0.411765</td>\n",
       "      <td>0.588235</td>\n",
       "    </tr>\n",
       "    <tr>\n",
       "      <th rowspan=\"2\" valign=\"top\">other</th>\n",
       "      <th>False</th>\n",
       "      <td>0.793103</td>\n",
       "      <td>0.206897</td>\n",
       "    </tr>\n",
       "    <tr>\n",
       "      <th>True</th>\n",
       "      <td>0.534884</td>\n",
       "      <td>0.465116</td>\n",
       "    </tr>\n",
       "    <tr>\n",
       "      <th rowspan=\"2\" valign=\"top\">white</th>\n",
       "      <th>False</th>\n",
       "      <td>0.731118</td>\n",
       "      <td>0.268882</td>\n",
       "    </tr>\n",
       "    <tr>\n",
       "      <th>True</th>\n",
       "      <td>0.405039</td>\n",
       "      <td>0.594961</td>\n",
       "    </tr>\n",
       "  </tbody>\n",
       "</table>\n",
       "</div>"
      ],
      "text/plain": [
       "arrest_made                                 False      True\n",
       "subject_race           contraband_found                    \n",
       "asian/pacific islander False             0.777778  0.222222\n",
       "                       True              0.452632  0.547368\n",
       "black                  False             0.836618  0.163382\n",
       "                       True              0.519444  0.480556\n",
       "hispanic               False             0.810020  0.189980\n",
       "                       True              0.411765  0.588235\n",
       "other                  False             0.793103  0.206897\n",
       "                       True              0.534884  0.465116\n",
       "white                  False             0.731118  0.268882\n",
       "                       True              0.405039  0.594961"
      ]
     },
     "execution_count": 16,
     "metadata": {},
     "output_type": "execute_result"
    }
   ],
   "source": [
    "pivot_ratios"
   ]
  },
  {
   "cell_type": "markdown",
   "id": "b2ff8ad6-1ddc-4cfd-8aa7-53670bcd958f",
   "metadata": {},
   "source": [
    "Obtain descriptive statistics for arrests made in each group."
   ]
  },
  {
   "cell_type": "code",
   "execution_count": 17,
   "id": "6428880e-f77a-46e8-9d09-dbc68317738e",
   "metadata": {},
   "outputs": [
    {
     "data": {
      "text/plain": [
       "count    10.000000\n",
       "mean      0.372760\n",
       "std       0.177842\n",
       "min       0.163382\n",
       "25%       0.210728\n",
       "50%       0.366999\n",
       "75%       0.530665\n",
       "max       0.594961\n",
       "Name: True, dtype: float64"
      ]
     },
     "execution_count": 17,
     "metadata": {},
     "output_type": "execute_result"
    }
   ],
   "source": [
    "pivot_ratios[True].describe()"
   ]
  },
  {
   "cell_type": "markdown",
   "id": "2c6362da-68df-4c52-bf3b-4f5793433b3c",
   "metadata": {},
   "source": [
    "Conclusions\n",
    "---"
   ]
  },
  {
   "cell_type": "markdown",
   "id": "92ecfed4-08cc-438e-b4fd-c6a071ea0744",
   "metadata": {},
   "source": [
    "This data source is capable of approaching racial inequity in San Diego County traffic stops / arrests made from traffic stops. A variety of races are recorded in this dataset: White, Hispanic, Black, Asian / Pacific Islander, and other races included in \"Other\". As indicated by the relative frequencies and bar charts, the counts of subjects in each racial group differ greatly, ranging from 42% of the subjects being white folks to 7% being of other races. The average percentage is 20% with a standard deviation of about 16%. Looking at the subjects who were arrested, the proportions look similar to the proportions for traffic stop subjects in general with the exceptions of more Hispanic and Black individuals being arrested. Like before, the average proportion is 20% with a standard deviation of about 16%. Then, examining arrests conditioned on whether or not a subject was found to have contraband and on their race, the mean percentage for arrests made in any group `(race, contraband_found)` was about 37% with a standard deviation of 17%. Because of these variations in proportions, it opens the door for follow up investigations into whether or not subjects of different races are arrested at varying rates."
   ]
  }
 ],
 "metadata": {
  "kernelspec": {
   "display_name": "Python 3 (ipykernel)",
   "language": "python",
   "name": "python3"
  },
  "language_info": {
   "codemirror_mode": {
    "name": "ipython",
    "version": 3
   },
   "file_extension": ".py",
   "mimetype": "text/x-python",
   "name": "python",
   "nbconvert_exporter": "python",
   "pygments_lexer": "ipython3",
   "version": "3.9.7"
  }
 },
 "nbformat": 4,
 "nbformat_minor": 5
}
