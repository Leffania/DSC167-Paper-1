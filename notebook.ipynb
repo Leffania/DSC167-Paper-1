{
 "cells": [
  {
   "cell_type": "markdown",
   "id": "ef28d3e2-c36f-4397-b963-5403827af818",
   "metadata": {},
   "source": [
    "# Introduction"
   ]
  },
  {
   "cell_type": "markdown",
   "id": "95c34c3b-54d8-4145-8153-04d123ec9e9e",
   "metadata": {},
   "source": [
    "&emsp;&emsp;According to U.S. constitutional law, police officers are not allowed to stop an individual without probable cause or reasonable suspicion. As a result, it is unconstitutional to stop a person without prior observations that they may have broken the law or have a warrant for search or arrest. This also means that a police officer cannot stop a person on the basis of their appearance like their perceived sex, gender, race, etc. What if, however, there is disparate treatment in stopping individuals because of their perceived race? This paper analyzes traffic stops in San Diego from 2013 to 2017 as an investigation into whether or not inequities exist in the police's treatment of individuals, and through consideration of various notions of fairness quantified by statistical analyses, finds that there does exist inequity in the data given numerous assumptions. First, the historical and social context of the issue is discussed with various notions of fairness in mind; then follows a technical exploration into the data with commentary on why it is appropriate for analyzing this problem. Afterwards, this paper dives into the analysis of the inequity with respect to fairness, then it finally interprets these results and returns to the social lens of the problem with their implications and limitations.\n",
    "\n",
    "&emsp;&emsp;Various other studies have been conducted on inequities in traffic stops including an investigation suggesting that time helps to mask a person's race, leading to police officers stopping Black individuals less (Pierson et al., 2020). Another looks at differing ratios of contraband discoveries to searches among the races, implying that one race is discriminated against: less findings of contraband with one race compared to another would mean that one race is searched more often than the other (Baumgartner et al., 2016). Additionally, Chanin et al. (2018) examines other outcomes of the stop, citations or arrests, in a similar fashion to looking at contraband findings that show disproportionate rates among the races."
   ]
  },
  {
   "cell_type": "markdown",
   "id": "fe31ac02-3385-4c93-a994-617c60f1aeea",
   "metadata": {},
   "source": [
    "# Background"
   ]
  },
  {
   "cell_type": "markdown",
   "id": "5dc0dbb4-6ffb-416b-9dbc-bdc756a492b0",
   "metadata": {},
   "source": [
    "Reinforcement of Racial Ideologies\n",
    "---"
   ]
  },
  {
   "cell_type": "markdown",
   "id": "df7dde1d-0eff-40a2-a94d-c00e684bbc08",
   "metadata": {},
   "source": [
    "&emsp;&emsp;Racial inequity has long been a problem in society from scientific racism and physiognomy (Arcas et al., 2017) to facial recognition software correctly identifying individuals of varying races and genders at disproportionate rates (Buolamwini, 2017). It is perpetuated through the many layers of power in the structural, disciplinary, hegemonic, and interpersonal domains of the matrix of domination (D'Ignazio & Klein, 2020). These domains protect and give power to the privileged through various systematic and cultural means.\n",
    "\n",
    "&emsp;&emsp;When considering police traffic stops, all four domains are involved. Oppression from the structural domain originates from the ambiguity of the U.S. Constitution which declares that \"the right of the people to be secure... against unreasonable searches and seizure, shall not be violated, and no Warrants shall issue, but upon probable cause...\" (U.S. Const., Amend. IV, 1789). Consequently, the Supreme Court has been left to define the meaning of \"probable cause\" which has resulted in the phrase being flexible in any situation, meaning that police officers can potentially use any possible legitimate reason as \"probable cause\" as an implicit way to stop, search, or arrest people of one race more than another. Furthermore, the disciplinary domain acts directly in that it \"implements and enforces laws and policies\" (D'Ignazio & Klein, 2020), which in this context, refers to the police officers who enforce the law by stopping people with probable cause on suspicion of illegal activity. Straying away from infrastructure, the hegemonic domain perpetuates racial inequity through both culture and media, able to influence and instill racist ideals in law enforcers who may manifest their biases through contact with other people. Finally, the interpersonal domain in this context refers to the personal interactions that individuals have with police officers when stopped, as \"more than 20 million Americans are stopped each year for traffic violations\" (Pierson et al., 2020)."
   ]
  },
  {
   "cell_type": "markdown",
   "id": "6465a70f-b31d-4b51-aebd-0faff8164db1",
   "metadata": {},
   "source": [
    "Justice for All\n",
    "---"
   ]
  },
  {
   "cell_type": "markdown",
   "id": "fb6e9cd7-b254-47a6-8304-1f6460c936cd",
   "metadata": {},
   "source": [
    "&emsp;&emsp;Discrimination on the basis of race violates various notions of fairness and distributive justice; in particular, Equality of Opportunity is infringed upon when disparate treatment occurs due to racism. Rawlsian Formal Equality of Opportunity as discussed by Heidari et al. (2018) asserts that two individuals with the same effort and merit should receive the same benefit or utility regardless of uncontrollable circumstances such as sex or race (Lamont & Favor, 2017). In this paper, fairness is measured by how well the data falls in line with Equality of Opportunity, and when applied to the context of police traffic stops, it means that the existence of a racial inequity would violate Rawlsian Formal Equality of Opportunity. For instance, if person A and B are of different races who are stopped under suspicion of possessing contraband, it follows under Equality of Opportunity to conduct an arrest for person B if an arrest is conducted for person A as well. \n",
    "\n",
    "&emsp;&emsp;As will be observed, these ideas of Equality of Opportunity are applied statistically in the following sections, determining whether arrests between individuals with the same criminality but differing races occur at varying rates. The claim is that the rates at which people of the same criminality but differing races should be similar if not equal; otherwise, Equality of Opportunity is violated, and discrimination does play a role in police traffic stops. Note how this assumes that criminality comes from individual choice, holding the individual accountable for their own actions, and race has no role in this since it is an uncontrollable feature."
   ]
  },
  {
   "cell_type": "markdown",
   "id": "42ab6ca7-4dfb-449d-9b8b-f75925f6a383",
   "metadata": {},
   "source": [
    "# Data Exploration"
   ]
  },
  {
   "cell_type": "markdown",
   "id": "38f0788c-7883-4120-ab0c-85c344733e99",
   "metadata": {},
   "source": [
    "Preview\n",
    "---"
   ]
  },
  {
   "cell_type": "markdown",
   "id": "bba0964e-c204-4777-8eea-54b35fcc946c",
   "metadata": {},
   "source": [
    "&emsp;&emsp;In this section, preliminary exploratory data analysis is done through computing descriptive analyses and checking features in order to assess if it is feasible to conduct an analysis with the data. Namely, check for group membership, sufficient variation in the data, and whether or not an individual's criminality can be measured. Commentary will also be provided alongside the analyses for interpretation."
   ]
  },
  {
   "cell_type": "code",
   "execution_count": 1,
   "id": "54bd4ff3-abbb-4ec1-8e41-e6b0db55ed5b",
   "metadata": {},
   "outputs": [],
   "source": [
    "import matplotlib.pyplot as plt\n",
    "import numpy as np\n",
    "import pandas as pd"
   ]
  },
  {
   "cell_type": "code",
   "execution_count": 2,
   "id": "80b4a2a5-e26f-4821-a8f9-a3f22cb7613f",
   "metadata": {},
   "outputs": [],
   "source": [
    "path = \"data.zip\"\n",
    "data = pd.read_csv(path)"
   ]
  },
  {
   "cell_type": "code",
   "execution_count": 3,
   "id": "ccf77842-18db-47d1-a4f3-da7ac20f1be1",
   "metadata": {},
   "outputs": [],
   "source": [
    "data = data.dropna(subset = [\"subject_race\"])"
   ]
  },
  {
   "cell_type": "code",
   "execution_count": 4,
   "id": "db5538e0-fff5-44bc-86c0-61b128fc525d",
   "metadata": {},
   "outputs": [],
   "source": [
    "data[\"subject_race\"] = data[\"subject_race\"].str.title()"
   ]
  },
  {
   "cell_type": "markdown",
   "id": "cd754b2e-937e-4ca6-886f-30d5dc60fcba",
   "metadata": {},
   "source": [
    "&emsp;&emsp;Here is the racial composition of subjects listed in the dataset with most subjects being White and least of them being marked as \"Other\". Note that Asian / Pacific Islander and Other categories make up less than 10% of the data, possibly hinting towards underrepresentation which could indicate sampling biases."
   ]
  },
  {
   "cell_type": "code",
   "execution_count": 5,
   "id": "d2a5c875-8dce-40ca-a68d-cfb7a616186d",
   "metadata": {},
   "outputs": [
    {
     "data": {
      "text/plain": [
       "White                     0.424906\n",
       "Hispanic                  0.306666\n",
       "Black                     0.111854\n",
       "Asian/Pacific Islander    0.085232\n",
       "Other                     0.071342\n",
       "Name: subject_race, dtype: float64"
      ]
     },
     "execution_count": 5,
     "metadata": {},
     "output_type": "execute_result"
    }
   ],
   "source": [
    "data[\"subject_race\"].value_counts(normalize = True)"
   ]
  },
  {
   "cell_type": "code",
   "execution_count": 6,
   "id": "441687d0-2c6c-4a98-ab5e-14b84049b4bd",
   "metadata": {},
   "outputs": [],
   "source": [
    "#data[\"subject_race\"].value_counts(normalize = True).mean()"
   ]
  },
  {
   "cell_type": "code",
   "execution_count": 7,
   "id": "08cf2fa8-5e5d-423d-9005-c6939324a2a3",
   "metadata": {},
   "outputs": [],
   "source": [
    "#data[\"subject_race\"].value_counts(normalize = True).std()"
   ]
  },
  {
   "cell_type": "code",
   "execution_count": 8,
   "id": "2658951d-0af6-437b-b86f-84dd11fa5236",
   "metadata": {},
   "outputs": [
    {
     "data": {
      "text/plain": [
       "Text(0, 0.5, 'Relative Frequency (Proportion)')"
      ]
     },
     "execution_count": 8,
     "metadata": {},
     "output_type": "execute_result"
    },
    {
     "data": {
      "image/png": "[encoded data removed]",
      "text/plain": [
       "<Figure size 800x600 with 1 Axes>"
      ]
     },
     "metadata": {
      "needs_background": "light"
     },
     "output_type": "display_data"
    }
   ],
   "source": [
    "plt.figure(figsize = (8, 6), dpi = 100)\n",
    "plt.rc(\"axes\", titlesize = 15)\n",
    "plt.rc(\"axes\", labelsize = 15)\n",
    "plt.bar(\n",
    "    data[\"subject_race\"].value_counts(normalize = True).index, \n",
    "    data[\"subject_race\"].value_counts(normalize = True), \n",
    "    color = [\"red\", \"blue\", \"yellow\", \"green\", \"gray\"], \n",
    "    edgecolor = \"black\",\n",
    "    alpha = 0.6\n",
    ")\n",
    "plt.title(\"Subject Race Frequency\")\n",
    "plt.xlabel(\"Race\")\n",
    "plt.ylabel(\"Relative Frequency (Proportion)\")"
   ]
  },
  {
   "cell_type": "markdown",
   "id": "4758ded8-1f56-4c37-9339-d4aa97b94096",
   "metadata": {},
   "source": [
    "&emsp;&emsp;Above is a bar chart displaying the racial makeup of the data, coinciding with White folks making up most of the dataset as the computed proportions above have shown. Again, note how Asian / Pacific Islanders and Others are below the 10% mark."
   ]
  },
  {
   "cell_type": "code",
   "execution_count": 9,
   "id": "b740681b-5c1e-4214-9865-d038c9fb2d07",
   "metadata": {},
   "outputs": [],
   "source": [
    "#data[\"outcome\"].value_counts(normalize = True)"
   ]
  },
  {
   "cell_type": "markdown",
   "id": "aff6d2c6-501c-4afa-8fd9-c9c40869a139",
   "metadata": {},
   "source": [
    "Looking into Arrests Made\n",
    "---"
   ]
  },
  {
   "cell_type": "markdown",
   "id": "6e77674d-805d-48c6-a697-96a472515376",
   "metadata": {},
   "source": [
    "&emsp;&emsp;The biggest problem with conducting a statistical analysis with a focus on the entire dataset is that there are no negative labels. In other words, there is no record of an individual *not* being stopped by police, so there would be no way to compare rates of people being stopped between the varying races. Thus, instead of thinking of \"stopped / not stopped\" as the outcome, this paper decides to look at \"arrested / not arrested\". As a result, a thorough examination can be done for both people who were arrested and those who were not arrested, as there exist records of people who were stopped but not arrested and those were were arrested. The other justification comes from how compared to leaving with a mere warning or a citation, arrests are a more severe outcome for individuals, so any statistically significant results yielded from the analysis would have serious implications, considering how disparate treatment in arrests would be more severe than disparate treatment in giving warnings.\n",
    "\n",
    "&emsp;&emsp;Here is the racial composition of individuals given that they were arrested. Even with the condition that an arrest was made, Asian / Pacific Islanders and Others make up less than 10% of this population. Low percentages for the total population and low percentages for the arrested population would imply that in the scope of the whole dataset, these individuals make up even less of the whole population. Any statistical analyses done on these categories should exercise caution when making interpretations due to the underrepresentation of these groups."
   ]
  },
  {
   "cell_type": "code",
   "execution_count": 10,
   "id": "f3a8e005-2fd3-4c46-96a5-4328752462fd",
   "metadata": {},
   "outputs": [
    {
     "data": {
      "text/plain": [
       "White                     0.368115\n",
       "Hispanic                  0.356267\n",
       "Black                     0.178133\n",
       "Asian/Pacific Islander    0.064228\n",
       "Other                     0.033257\n",
       "Name: subject_race, dtype: float64"
      ]
     },
     "execution_count": 10,
     "metadata": {},
     "output_type": "execute_result"
    }
   ],
   "source": [
    "arrests = data[data[\"outcome\"] == \"arrest\"]\n",
    "arrests[\"subject_race\"].value_counts(normalize = True)"
   ]
  },
  {
   "cell_type": "code",
   "execution_count": 11,
   "id": "226074ae-f117-491b-b3e2-a281dedbc38e",
   "metadata": {},
   "outputs": [],
   "source": [
    "#arrests[\"subject_race\"].value_counts(normalize = True).mean()"
   ]
  },
  {
   "cell_type": "code",
   "execution_count": 12,
   "id": "410ff684-8569-4773-b545-ec68e6dea00a",
   "metadata": {},
   "outputs": [],
   "source": [
    "#arrests[\"subject_race\"].value_counts(normalize = True).std()"
   ]
  },
  {
   "cell_type": "code",
   "execution_count": 13,
   "id": "918d4dca-9902-4c63-90ea-e87dbc14bf4e",
   "metadata": {},
   "outputs": [
    {
     "data": {
      "text/plain": [
       "Text(0, 0.5, 'Relative Frequency (Proportion)')"
      ]
     },
     "execution_count": 13,
     "metadata": {},
     "output_type": "execute_result"
    },
    {
     "data": {
      "image/png": "[encoded data removed]",
      "text/plain": [
       "<Figure size 800x600 with 1 Axes>"
      ]
     },
     "metadata": {
      "needs_background": "light"
     },
     "output_type": "display_data"
    }
   ],
   "source": [
    "plt.figure(figsize = (8, 6), dpi = 100)\n",
    "plt.rc(\"axes\", titlesize = 15)\n",
    "plt.rc(\"axes\", labelsize = 15)\n",
    "\n",
    "plt.bar(\n",
    "    arrests[\"subject_race\"].value_counts(normalize = True).index, \n",
    "    arrests[\"subject_race\"].value_counts(normalize = True),\n",
    "    color = [\"red\", \"blue\", \"yellow\", \"green\", \"gray\"],\n",
    "    edgecolor = \"black\",\n",
    "    alpha = 0.6\n",
    ")\n",
    "plt.title(\"Arrested Subject Race Frequency\")\n",
    "plt.xlabel(\"Race\")\n",
    "plt.ylabel(\"Relative Frequency (Proportion)\")"
   ]
  },
  {
   "cell_type": "markdown",
   "id": "556ca64f-b116-4d68-8350-aac1a522a5d9",
   "metadata": {},
   "source": [
    "&emsp;&emsp;Above is a bar chart displaying the racial makeup of subjects who were arrested, coinciding with White folks making up most of the individuals as the computed proportions above have shown; curiously, both Hispanic and Black frequencies have notably increased compared to the general population. Again, observe how Asian / Pacific Islanders make up less than 10% of this group with Others composing even less."
   ]
  },
  {
   "cell_type": "markdown",
   "id": "1cfcc8c9-2386-44c7-85a5-553b8e2162db",
   "metadata": {},
   "source": [
    "Measuring Severity\n",
    "---"
   ]
  },
  {
   "cell_type": "markdown",
   "id": "e0f1a9ee-1d30-4372-b2ca-bad901b9997b",
   "metadata": {},
   "source": [
    "&emsp;&emsp;In order to measure severity of an infraction / criminalty of an individual and determine if Equality of Opportunity holds, a measurement is needed, so the `reason_for_stop` feature is considered, and if the individual was searched, the `reason_for_search` is added as well. The total severity measurement comes from counting the total number of reasons a police officer had to stop and / or search a particular individual. To sum up:\n",
    "\n",
    "$$severity_{total} = \\# \\, reasons_{stop} + \\# \\, reasons_{search}$$\n",
    "\n",
    "&emsp;&emsp;Note that because this measurement is derived from reasons to stop and not actual outcomes, it is a proxy of criminality at best. It is also important not to forget that data collection is left up to officers, so they ultimately have the say in what justifies a stop / search, so they are bound to be incorrect in their justifications, seeing as how they can miss an infraction or wrongly judge that a person is potentially guilty of illegal activity. On top of this, if the police officers are racially biased, then this measurement could also be racially biased; after all, they could allocate more severe reasons to stop / search an individual than another of differing races. This paper assumes this measurement is representative of an individual's criminality, but it is important to keep these points in mind."
   ]
  },
  {
   "cell_type": "code",
   "execution_count": 14,
   "id": "56b1bf3c-1bff-48f3-9500-cf9980c7fe7f",
   "metadata": {},
   "outputs": [],
   "source": [
    "def count_reasons(sequence):\n",
    "    if type(sequence) == str:\n",
    "        if '|' in sequence:\n",
    "            return len(sequence.split('|'))\n",
    "        else:\n",
    "            return 1\n",
    "    else:\n",
    "        return 0"
   ]
  },
  {
   "cell_type": "code",
   "execution_count": 15,
   "id": "f31dea3d-e341-40cd-93ab-2dca6181440a",
   "metadata": {},
   "outputs": [],
   "source": [
    "data[\"severity_stop\"] = data[\"reason_for_stop\"].apply(count_reasons)\n",
    "data[\"severity_search\"] = data[\"reason_for_search\"].apply(count_reasons)\n",
    "data[\"severity_total\"] = (data[\"severity_stop\"] + data[\"severity_search\"])\n",
    "severity_total_max = data[\"severity_total\"].max()\n",
    "#data[[\"arrest_made\", \"severity_stop\", \"severity_search\", \"severity_total\"]].head()"
   ]
  },
  {
   "cell_type": "code",
   "execution_count": 16,
   "id": "3d788b7c-6390-4e47-81a1-10ed673bd7ec",
   "metadata": {},
   "outputs": [],
   "source": [
    "def make_severity_total_pivot(df):\n",
    "    race_severity_groups = df.groupby([\"subject_race\", \"severity_total\"]).size()\n",
    "    dummy = pd.DataFrame(\n",
    "        [(race, i, np.nan, np.nan) for race in df[\"subject_race\"].unique() for i in range(severity_total_max + 1) if i not in race_severity_groups[race].index],\n",
    "        columns = [\"subject_race\", \"severity_total\", False, True]\n",
    "    ).set_index(keys = [\"subject_race\", \"severity_total\"])\n",
    "    \n",
    "    df_severity = df[[\"subject_race\", \"severity_total\", \"arrest_made\"]]\n",
    "    \n",
    "    pivot_severity_total = pd.concat([df_severity.pivot_table(\n",
    "        index = [\"subject_race\", \"severity_total\"],\n",
    "        columns = \"arrest_made\",\n",
    "        aggfunc = \"size\"\n",
    "    ), dummy]).fillna(0).astype(\"int\").sort_values([\"subject_race\", \"severity_total\"])\n",
    "    \n",
    "    return pivot_severity_total\n",
    "\n",
    "def pivot_counts_to_ratios(pivot_table):\n",
    "    pivot_table_ratios = pivot_table.copy()\n",
    "    pivot_table_sums = pivot_table.sum(axis = 1)\n",
    "    for indices in pivot_table.index:\n",
    "        if pivot_table_sums[indices] != 0:\n",
    "            pivot_table_ratios.loc[indices] /= pivot_table_sums[indices]\n",
    "            \n",
    "    return pivot_table_ratios"
   ]
  },
  {
   "cell_type": "code",
   "execution_count": 17,
   "id": "bc333892-0f06-4162-9dfa-e6de8d84776f",
   "metadata": {},
   "outputs": [],
   "source": [
    "pivot_severity_total = make_severity_total_pivot(data)\n",
    "pivot_severity_total_ratios = pivot_counts_to_ratios(pivot_severity_total)\n",
    "#pivot_severity_total_ratios"
   ]
  },
  {
   "cell_type": "markdown",
   "id": "2d84a9ff-13bd-4192-8594-8db63a174bce",
   "metadata": {},
   "source": [
    "&emsp;&emsp;Because a myriad of (`subject_race`, `severity_total`) groups consist of little to no individuals, analyzing the data at this granularity will yield little statistical significance. Since it appears to be the case that arrests increase drastically at a total severity of 2, use this value as a threshold for determining who is severe vs. not severe instead of working with each possible severity value. Of course, setting 2 as a threshold introduces bias not in the dataset but into the data analysis, as the threshold is subjective. Ideally, multiple trials should be done with differing thresholds to see if they yield differing results, then choose the best threshold. Ultimately though, 2 is chosen as the threshold for severity.\n",
    "\n",
    "&emsp;&emsp;A pivot table of arrests made conditioned on a subject's race and whether or not they would be considered \"severe\" is shown below. Note how given that an individual is Black and considered severe, the arrest rate seems low compared to if an individual is White and considered severe."
   ]
  },
  {
   "cell_type": "code",
   "execution_count": 18,
   "id": "9f005fc3-d02d-4fd0-869b-e0a662d3b903",
   "metadata": {},
   "outputs": [
    {
     "data": {
      "text/html": [
       "<div>\n",
       "<style scoped>\n",
       "    .dataframe tbody tr th:only-of-type {\n",
       "        vertical-align: middle;\n",
       "    }\n",
       "\n",
       "    .dataframe tbody tr th {\n",
       "        vertical-align: top;\n",
       "    }\n",
       "\n",
       "    .dataframe thead th {\n",
       "        text-align: right;\n",
       "    }\n",
       "</style>\n",
       "<table border=\"1\" class=\"dataframe\">\n",
       "  <thead>\n",
       "    <tr style=\"text-align: right;\">\n",
       "      <th></th>\n",
       "      <th>arrest_made</th>\n",
       "      <th>False</th>\n",
       "      <th>True</th>\n",
       "    </tr>\n",
       "    <tr>\n",
       "      <th>subject_race</th>\n",
       "      <th>is_severe</th>\n",
       "      <th></th>\n",
       "      <th></th>\n",
       "    </tr>\n",
       "  </thead>\n",
       "  <tbody>\n",
       "    <tr>\n",
       "      <th rowspan=\"2\" valign=\"top\">Asian/Pacific Islander</th>\n",
       "      <th>False</th>\n",
       "      <td>0.996237</td>\n",
       "      <td>0.003763</td>\n",
       "    </tr>\n",
       "    <tr>\n",
       "      <th>True</th>\n",
       "      <td>0.752795</td>\n",
       "      <td>0.247205</td>\n",
       "    </tr>\n",
       "    <tr>\n",
       "      <th rowspan=\"2\" valign=\"top\">Black</th>\n",
       "      <th>False</th>\n",
       "      <td>0.993801</td>\n",
       "      <td>0.006199</td>\n",
       "    </tr>\n",
       "    <tr>\n",
       "      <th>True</th>\n",
       "      <td>0.817396</td>\n",
       "      <td>0.182604</td>\n",
       "    </tr>\n",
       "    <tr>\n",
       "      <th rowspan=\"2\" valign=\"top\">Hispanic</th>\n",
       "      <th>False</th>\n",
       "      <td>0.994842</td>\n",
       "      <td>0.005158</td>\n",
       "    </tr>\n",
       "    <tr>\n",
       "      <th>True</th>\n",
       "      <td>0.791516</td>\n",
       "      <td>0.208484</td>\n",
       "    </tr>\n",
       "    <tr>\n",
       "      <th rowspan=\"2\" valign=\"top\">Other</th>\n",
       "      <th>False</th>\n",
       "      <td>0.996569</td>\n",
       "      <td>0.003431</td>\n",
       "    </tr>\n",
       "    <tr>\n",
       "      <th>True</th>\n",
       "      <td>0.796834</td>\n",
       "      <td>0.203166</td>\n",
       "    </tr>\n",
       "    <tr>\n",
       "      <th rowspan=\"2\" valign=\"top\">White</th>\n",
       "      <th>False</th>\n",
       "      <td>0.995462</td>\n",
       "      <td>0.004538</td>\n",
       "    </tr>\n",
       "    <tr>\n",
       "      <th>True</th>\n",
       "      <td>0.720050</td>\n",
       "      <td>0.279950</td>\n",
       "    </tr>\n",
       "  </tbody>\n",
       "</table>\n",
       "</div>"
      ],
      "text/plain": [
       "arrest_made                          False      True\n",
       "subject_race           is_severe                    \n",
       "Asian/Pacific Islander False      0.996237  0.003763\n",
       "                       True       0.752795  0.247205\n",
       "Black                  False      0.993801  0.006199\n",
       "                       True       0.817396  0.182604\n",
       "Hispanic               False      0.994842  0.005158\n",
       "                       True       0.791516  0.208484\n",
       "Other                  False      0.996569  0.003431\n",
       "                       True       0.796834  0.203166\n",
       "White                  False      0.995462  0.004538\n",
       "                       True       0.720050  0.279950"
      ]
     },
     "execution_count": 18,
     "metadata": {},
     "output_type": "execute_result"
    }
   ],
   "source": [
    "data[\"is_severe\"] = (data[\"severity_total\"] >= 2)\n",
    "data_is_severe = data[[\"subject_race\", \"is_severe\", \"arrest_made\"]]\n",
    "\n",
    "pivot_is_severe = data_is_severe.pivot_table(\n",
    "    index = [\"subject_race\", \"is_severe\"],\n",
    "    columns = \"arrest_made\",\n",
    "    aggfunc = \"size\"\n",
    ").fillna(0).astype(\"int\")\n",
    "pivot_is_severe_ratios = pivot_counts_to_ratios(pivot_is_severe)\n",
    "pivot_is_severe_ratios"
   ]
  },
  {
   "cell_type": "code",
   "execution_count": 19,
   "id": "6428880e-f77a-46e8-9d09-dbc68317738e",
   "metadata": {},
   "outputs": [],
   "source": [
    "#pivot_is_severe_ratios.reset_index()[pivot_is_severe_ratios.reset_index()[\"is_severe\"] == True].drop(columns = [\"is_severe\"]).set_index(\"subject_race\").describe()[True]"
   ]
  },
  {
   "cell_type": "markdown",
   "id": "2c6362da-68df-4c52-bf3b-4f5793433b3c",
   "metadata": {},
   "source": [
    "Summary\n",
    "---"
   ]
  },
  {
   "cell_type": "markdown",
   "id": "4a5e4b45-2407-40ad-afc8-4c8ad87325cb",
   "metadata": {},
   "source": [
    "This data source seems appropriate for investigating racial inequity in arrests made in San Diego traffic stops for the following reasons:\n",
    "\n",
    "- It has differing races.\n",
    "- The proportions for arrested individuals arrest conditioned on subject race are spread considerably (standard deviation of about 15%).\n",
    "- There is sufficient variation in the racial composition of arrested individuals who are considered severe; consider 18% vs. 28%.\n",
    "- A measurement for severity can be derived and used for applying notions of Equality of Opportunity on the dataset.\n",
    "\n",
    "However, there are various limitations discovered that could hinder the statistical power of the data analysis:\n",
    "\n",
    "- Some racial groups are possibly underrepresented with Asians / Pacific Islanders and Other races making up 8.5% and 7.1% of the dataset, respectively; therefore, any statistical analyses done involving Asians / Pacific Islanders or Other races may yield results not representative of Asians / Pacific Islanders or Other races for subjects stopped by police in San Diego. It is possible that this is caused by sampling bias where individuals of certain races happen to be stopped more than others, resulting in overrepresentation of those races (White and Hispanic individuals as seen from the racial composition of the dataset) and underrepresentation of Asians / Pacific Islanders and Other races.\n",
    "- The race labels are ambiguous like with how \"Other\" is not explicitly known to express a certain number of \"other\" races or is used as a catch-all categorization. With this in mind, this probably is a consequence of which racial categories have the political representation and power to allow themselves to be classified. \"Asians / Pacific Islanders\" is not specific as to if Asian Indians are included or not, and ultimately, because the data collection comes from police records, it is most likely left up to the individual police officers to categorize people into racial groups. Assuming that the results of the data analysis are valid, any results concerning these racial groups will be difficult to interpret for actual individuals beyond these abstract labels.\n",
    "- This type of racial categorization fails to accommodate for individuals of multiple races, and if people of multiple races are included, it is not known if they are fit into one category or are counted multiple times in the dataset. As mentioned above, data collection is subjectively left up to police officers to make records, so they decide which racial category to place individuals into. If the subject does not specify their race, police officers most likely infer from appearance which is subjective, as two different officers could classify the same individual into differing racial categories. If this is true, then there could exist incorrect race labels for individuals which would bias the dataset in wrongly giving more representation to an incorrectly classified race instead of the category they most likely belong to under this system. If people of differing races happen to have differing behaviors, then this could hurt racial representation even more since an individual with an incorrectly classified race label would become an outlier and possibly skew proportions. This is even more so the case for the \"Asian / Pacific Islander\" and \"Other\" groups since they are the most underrepresented categories of the dataset. \n",
    "- As a follow up, one should repeat that, as mentioned before, data collection by the police is bound to be subjective, as are reasons to stop / search an individual which are left up to the discretion of the officer. If officers are racially biased, they could allocate more \"severe\" reasons to stop / search an individual depending on their race. If this is true, then the dataset is already biased, meaning any data analyses that results will also be biased.\n",
    "- The measurement used and computed is a proxy of \"severity\" of an individual, meaning it may not necessarily be accurately representative of that particular person's criminal behavior since it is possible for someone to be stopped for possessing contraband, then found to not have any, but it is also true that people who possess contraband may not be recorded for this in the reasons due to the officer being unaware of it. In other words, there is bound to be false positives and false negatives in the recorded reasons for stopping / searching an individual. Also, as mentioned in the point directly above, if officers have implicit biases, then not only is this measurement of severity a proxy of criminality at best, it also could potentially have racial bias encoded in it from the onus of data collection being on the officers themselves.\n",
    "- Assuming everything else is valid and that there are no racial biases encoded in the measurement of severity used, its biggest flaw is in assuming that all reasons to stop / search an individual are the same, as all reasons are counted the same. Some reasons will ultimately be more severe than others (e.g., 1 Moving Violation vs. 1 Possession of Contraband); however, there is no systematic way to determine the weight of each *possible* infraction of the law.\n",
    "\n",
    "&emsp;&emsp;Overall, this dataset does have differing races and seemingly variable rates of arrests, giving it potential for an investigation to be conducted; however, the underrepresentation and potential overrepresentation of certain racial groups, the ambiguity of race labels, subjectivity of data collection, and the inherent flaws of the measurement to be used are considerations that could certainly predetermine results from any statistical analysis to be biased and also inaccurately represent a racial category from poor representation of that race in the dataset."
   ]
  },
  {
   "cell_type": "markdown",
   "id": "b2aefd1d-69c4-4ddd-8ce3-1756129ac2a9",
   "metadata": {},
   "source": [
    "# Statistical Analysis"
   ]
  },
  {
   "cell_type": "markdown",
   "id": "f3b8e616-51bd-4345-a2b1-05dd6a06a88e",
   "metadata": {
    "tags": []
   },
   "source": [
    "Formulating Equality of Opportunity\n",
    "---\n",
    "&emsp;&emsp;Assuming that there is no bias in the dataset and before a deep dive into analysis is undergone, it is important to note that two specific notions of Equality of Opportunity studied by Heidari et al. (2018) in their framework are applied statistically to the data: Rawlsian Formal Equality of Opportunity and Luck Egalitarian Equality of Opportunity. These two parity measures were chosen specifically because other parity measures like Accuracy Parity, Statistical Parity, Equality of Odds, and Predictive Value Parity depend on the predictions of a classifier either from a standard decision making algorithm or a machine learning classifier whereas these measures do not depend on those predictions.\n",
    "\n",
    "&emsp;&emsp;The main difference between Rawlsian Formal Equality of Opportunity and Luck Egalitarian Equality of Opportunity rely on recognition of racial categories as having different distributions. That is, Rawlsian Formal Equality of Opportunity takes an absolutist view and assumes that the distributions of individuals between races look similar; on the other hand, Luck Egalitarian Equality of Opportunity views these distributions in a relative scope, comparing quantiles of each distribution (e.g., the top 10% from race A with the top 10% from race B). Quantitatively, the equations derived by Heidari et al. (2018) hold:\n",
    "\n",
    "$$ $$\n",
    "**Rawlsian Formal Equality of Opportunity**:\n",
    "\n",
    "&emsp;&emsp;If $F$ is a utility function allocating goods, benefits, or opportunities to an individual as $x$, $e$ represents effort or attributes for which the individual is fully accountable and responsible for, and $c$ represents uncontrollable circumstances like race, then the following holds:\n",
    "$$F(x|e,c)=F(x|e,c')$$\n",
    "This implies that the distribution of utility to individuals of the same merit, effort, accountable choices should be the same as well regardless of their uncontrollable circumstances. In other words, if the utility function depends on these circumstances, then Rawlsian Formal Equality of Opportunity is violated.\n",
    "When put into the context of analyzing arrests, utility is a welfare here, deciding whether or not an individual should be arrested (thereby restricting their liberty). $x$ represents an individual, $e$ represents an individual's criminalty since it reflects the choices and attributes that they are responsible for, and $c$ represents race, the uncontrollable circumstance of which a potential inequity may exist. For instance, if two individuals who are both considered severe but of differing races receive different outcomes with one being arrested and the other not being arrested, then Rawlsian Formal Equality of Opportunity is violated because this implies that race, the uncontrollable circumstance, plays a role in making these decisions.\n",
    "\n",
    "$$ $$\n",
    "**Luck Egalitarian Equality of Opportunity**:\n",
    "\n",
    "&emsp;&emsp;Reusing $F$, $x$, and $c$, Luck Egalitarian Equality of Opportunity introduces a new variable, $q$, to represent the quantile at which the individual lies in the distribution of people given by the same uncontrollable circumstances. Then, this equation holds:\n",
    "$$F(x|q,c)=F(x|q,c')$$\n",
    "This implies that the distribution of utility to individuals who are at the $qth$ quantile in their respective distributions should be equal. In other words, if the utility function depends on uncontrollable circumstances in this relative view of \"merit\", then similar as above, Luck Egalitarian Equality of Opportunity is violated.\n",
    "In the context of the data analysis, utility and $x$ are the same here as above, representing liberty and an individual, respectively. The new variable $q$ would be the quantile at which an individual is located in the distribution for their racial group. To put into words, this definition would compare the arrest rate of the top $q*100\\%$ most severe individuals of one race with the arrest rate of the top $q*100\\%$ most severe individuals of another race. If the arrest rates are different, then this implies that the uncontrollable circumstance, race, is at play in giving utility to individuals; hence, Luck Egalitarian Equality of Opportunity is violated.\n",
    "\n",
    "$$ $$\n",
    "&emsp;&emsp;In general, the way these notions of equality are applied in the data relies on examining individuals of comparing severity, whether that be in absolute terms or with a relative view, but differing races as well to see if their rates of being arrested differ. Ergo, if the rates differ by a statistically significant amount, then a potential inequity exists in the data, and a follow up investigation is done to ascertain which specific race is being discriminated against. A general process for conducting a statistical analysis for each definition of fairness is given:\n",
    "\n",
    "1. Define a statistical hypothesis test given the notion of fairness in focus to first determine if a racial inequity exists in the data.\n",
    "2. Run 100 random simulations assuming that race, the uncontrollable circumstance, is irrelevant in order to produce an expected distribution of the test statistic.\n",
    "3. Compare the test statistic with the expected distribution to obtain a p-value, the probability of seeing the observed value within the expected distribution. A low probability implies that the observed value is extreme and not produced as a result of random chance whereas a high probability implies that the observed value can be observed within the expected distribution with a high chance.\n",
    "4. If the hypothesis test yields a statistically significant result, conduct another test to determine which race is being discriminated against."
   ]
  },
  {
   "cell_type": "markdown",
   "id": "d82dd324-c078-45c2-ae1c-c093b1eaabe0",
   "metadata": {},
   "source": [
    "Applying Rawlsian Formal Equality of Opportunity\n",
    "---\n",
    "&emsp;&emsp;In order to assess whether or not Rawlsian Formal Equality of Opportunity is violated, it is necessary to quantify whether the differences in arrest rates between people considered severe / not severe but of differing races are statistically significant. The statistical test to perform is as follows:\n",
    "\n",
    "- Null Hypothesis: The rates of arrests between individuals who are similarly considered \"severe\" / \"not severe\" but of differing races are less spread out, implying similarity.\n",
    "- Alternative Hypothesis: The rates of arrests between individuals who are similarly considered \"severe\" / \"not severe\" but of differing races are more spread out, implying inequality.\n",
    "\n",
    "Fix a significance level of 0.01.\n",
    "\n",
    "The test statistic to consider is computing, $\\sigma_{severe}$, the standard deviation of the distribution of arrest rates as given by each race for individuals considered \"severe\", then add it to, $\\sigma_{not\\,severe}$, the standard deviation of the distribution of arrest rates as given by each individuals considered \"not severe\". Thus, the test statistic is as follows:\n",
    "\n",
    "$$\\sigma_{total} = \\sigma_{severe} + \\sigma_{not\\,severe}$$\n",
    "\n",
    "The reasoning is that if Rawlsian Formal Equality of Opportunity holds, then the rates of arrests for subjects considered severe / not severe should be similar between the races. In technical terms, this means we expect $\\sigma_{total} \\approx 0$ since larger values of $\\sigma_{total}$ imply that the distribution of arrest rates has more variation. For instance, arrest rates for people considered severe that look like $\\{0.2, 0.2, 0.2, 0.2, 0.2\\}$ among the races is ideal and have should have $\\sigma_{severe} = 0$. If $\\sigma_{severe} > 0$, then the distribution of arrest rates vary, meaning it is possible that there is inequity in arresting people considered severe."
   ]
  },
  {
   "cell_type": "code",
   "execution_count": 20,
   "id": "36bf6955-6bff-4b09-a17b-d2bc74205b57",
   "metadata": {},
   "outputs": [],
   "source": [
    "def total_sds_is_severe(pivot_ratios):\n",
    "    pivot_ratios_severe = pivot_ratios.reset_index()[pivot_ratios.reset_index()[\"is_severe\"] == True].drop(columns = [\"is_severe\"]).set_index(\"subject_race\")\n",
    "    pivot_ratios_not_severe = pivot_ratios.reset_index()[pivot_ratios.reset_index()[\"is_severe\"] == False].drop(columns = [\"is_severe\"]).set_index(\"subject_race\")\n",
    "    \n",
    "    return pivot_ratios_severe[True].std() + pivot_ratios_not_severe[True].std()"
   ]
  },
  {
   "cell_type": "markdown",
   "id": "3c247f17-f855-47bb-88e9-db54d9e6ef32",
   "metadata": {},
   "source": [
    "&emsp;&emsp;The observed $\\sigma_{total}$ is as shown below. This means that in reality, the distribution of rates of arrests for subjects both severe and considered not severe between the races are spread out from the mean by $4\\%$. $4\\%$ seems certainly close to $0\\%$, but whether or not this is statistically significant will be determined in the following test."
   ]
  },
  {
   "cell_type": "code",
   "execution_count": 21,
   "id": "70420b4a-b976-4046-9429-08bc201f6976",
   "metadata": {},
   "outputs": [
    {
     "data": {
      "text/plain": [
       "0.040023959934947576"
      ]
     },
     "execution_count": 21,
     "metadata": {},
     "output_type": "execute_result"
    }
   ],
   "source": [
    "is_severe_statistic_observed = total_sds_is_severe(pivot_is_severe_ratios)\n",
    "is_severe_statistic_observed"
   ]
  },
  {
   "cell_type": "code",
   "execution_count": 22,
   "id": "d36c5ff5-b245-48f8-9e6a-0e195f7bd258",
   "metadata": {},
   "outputs": [
    {
     "name": "stdout",
     "output_type": "stream",
     "text": [
      "p-value: 0.0\n"
     ]
    }
   ],
   "source": [
    "significance = 0.01\n",
    "\n",
    "is_severe_results = []\n",
    "data_is_severe_random = data_is_severe.copy()\n",
    "\n",
    "for i in range(100):\n",
    "    shuffled_race = data_is_severe[\"subject_race\"].sample(frac = 1, replace = False, random_state = i, ignore_index = True)\n",
    "    data_is_severe_random[\"subject_race\"] = shuffled_race\n",
    "    pivot_is_severe_random = data_is_severe_random.pivot_table(\n",
    "        index = [\"subject_race\", \"is_severe\"],\n",
    "        columns = \"arrest_made\",\n",
    "        aggfunc = \"size\"\n",
    "    ).fillna(0).astype(\"int\")\n",
    "    pivot_is_severe_random_ratios = pivot_counts_to_ratios(pivot_is_severe_random)\n",
    "    statistic_simulated = total_sds_is_severe(pivot_is_severe_random_ratios)\n",
    "    is_severe_results.append(statistic_simulated)\n",
    "    \n",
    "is_severe_p_value = (pd.Series(is_severe_results) >= is_severe_statistic_observed).mean()\n",
    "#print(f\"p-value: {is_severe_p_value} \\nReject Null Hypothesis: {is_severe_p_value <= significance}\")\n",
    "print(f\"p-value: {is_severe_p_value}\")"
   ]
  },
  {
   "cell_type": "code",
   "execution_count": 23,
   "id": "997816ce-8fc0-4a7a-947c-24d9801a2571",
   "metadata": {},
   "outputs": [
    {
     "data": {
      "text/plain": [
       "[<matplotlib.lines.Line2D at 0x2a8db76e460>]"
      ]
     },
     "execution_count": 23,
     "metadata": {},
     "output_type": "execute_result"
    },
    {
     "data": {
      "text/plain": [
       "<Figure size 800x600 with 0 Axes>"
      ]
     },
     "metadata": {},
     "output_type": "display_data"
    },
    {
     "data": {
      "image/png": "[encoded data removed]",
      "text/plain": [
       "<Figure size 800x600 with 1 Axes>"
      ]
     },
     "metadata": {
      "needs_background": "light"
     },
     "output_type": "display_data"
    }
   ],
   "source": [
    "plt.figure(figsize = (8, 6), dpi = 100)\n",
    "plt.rc(\"axes\", titlesize = 15)\n",
    "plt.rc(\"axes\", labelsize = 15)\n",
    "\n",
    "plots, ax = plt.subplots(1, 1, figsize = (8, 6), dpi = 100)\n",
    "ax.hist(\n",
    "    is_severe_results,\n",
    "    edgecolor = \"black\"\n",
    ")\n",
    "plt.title(\"Expected Distribution of the TSD\")\n",
    "plt.xlabel(\"Total Standard Deviation\")\n",
    "plt.ylabel(\"Frequency\")\n",
    "plt.plot([is_severe_statistic_observed, is_severe_statistic_observed], [ax.get_ylim()[0], ax.get_ylim()[1]], color = \"red\")"
   ]
  },
  {
   "cell_type": "markdown",
   "id": "86dcefd9-ef0d-45df-a1bc-c37c8e17bae4",
   "metadata": {},
   "source": [
    "&emsp;&emsp;The distribution of $\\sigma_{total}$ under the null hypothesis is shown above with the red line representing the position of the observed $\\sigma_{total}$. As one may see, observed $\\sigma_{total}$ is nowhere near the expected distribution. In fact, it is abnormally high and extreme, meaning that the variation in arrest rates for individuals considered severe \\ not severe between races is statistically significant and not due to random chance."
   ]
  },
  {
   "cell_type": "markdown",
   "id": "c0905f2d-20e6-49b6-854a-e8e171ddad9d",
   "metadata": {},
   "source": [
    "&emsp;&emsp;Through 100 random simulations to generate a distribution of test statistics under the null hypothesis assumption, the test yielded a p-value of 0.0. Assuming this result is valid, this is an extremely low p-value. This means that the probability of seeing $\\sigma_{total}=4\\%$, assuming race does not matter, is 0.0% which is below the set significance of 0.01. Thus, reject the null hypothesis with extreme confidence that most likely, there is a potential racial inequity in the data."
   ]
  },
  {
   "cell_type": "code",
   "execution_count": 24,
   "id": "3f773088-cd7b-4986-b528-e330e68c9de9",
   "metadata": {},
   "outputs": [],
   "source": [
    "def diffs_in_means_bw(pivot_ratios):\n",
    "    pivot_ratios_is_severe = pivot_ratios.reset_index()[pivot_ratios.reset_index()[\"is_severe\"] == True].drop(columns = [\"is_severe\"]).set_index(\"subject_race\")[True]\n",
    "    pivot_ratios_not_severe = pivot_ratios.reset_index()[pivot_ratios.reset_index()[\"is_severe\"] == False].drop(columns = [\"is_severe\"]).set_index(\"subject_race\")[True]\n",
    "    white_is_severe = pivot_ratios_is_severe.loc[\"White\"]\n",
    "    black_is_severe = pivot_ratios_is_severe.loc[\"Black\"]\n",
    "    white_not_severe = pivot_ratios_not_severe.loc[\"White\"]\n",
    "    black_not_severe = pivot_ratios_not_severe.loc[\"Black\"]\n",
    "    return (white_is_severe - black_is_severe) + (white_not_severe - black_not_severe)"
   ]
  },
  {
   "cell_type": "markdown",
   "id": "85d83d70-7a59-4b39-bd05-6f3b1984f5e3",
   "metadata": {},
   "source": [
    "&emsp;&emsp;Because the spread in arrest rates turned out to be statistically significant, a follow up test is conducted to determine which race is discriminated against in the dataset. Reiterating a point from observing the pivot table of arrest rates between races for severe and not severe individuals, recall that for those considered severe, White individuals are arrested more often than Black individuals. Ergo, to determine if this difference is statistically significant, we formulate a statistical test as follows:\n",
    "\n",
    "- Null Hypothesis: The arrest rates of severe / not severe White individuals are similar to the arrest rates of severe / not severe Black individuals.\n",
    "- Alternative Hypothesis: The arrest rates of severe / not severe White individuals tends to be higher than the arrest rates of severe / not severe Black individuals.\n",
    "\n",
    "Again, fix the significance level to be 0.01.\n",
    "\n",
    "The test statistic here is in computing, $\\Delta \\mu_{severe}$, the total difference in arrest rates of severe White individuals compared to arrest rates of severe Black individuals, then add it to $\\Delta \\mu_{not \\, severe}$, the difference in arrest rates of not severe White individuals compared to arrest rates of not severe Black individuals. Thus, the test statistic is as follows:\n",
    "\n",
    "$$\\Delta \\mu_{severe} = \\mu_{severe, \\, White} - \\mu_{severe, \\, Black}$$\n",
    "$$\\Delta \\mu_{not \\, severe} = \\mu_{not \\, severe, \\, White} - \\mu_{not \\, severe, \\, Black}$$\n",
    "$$\\Delta \\mu_{total} = \\Delta \\mu_{severe} + \\Delta \\mu_{not \\, severe}$$\n",
    "\n",
    "&emsp;&emsp;Note that when calculating each $\\Delta \\mu$, arrest rates of White individuals are subtracted by the arrest rates of Black individuals, so larger values are considered extreme by this test, as they imply that the difference between arrest rates for White individuals and arrest rates for Black individuals is statistically significant. If Rawlsian Formal Equality of Opportunity is satisfied, then we should expect $\\Delta \\mu_{total} \\approx 0$ since it should hold that both White individuals and Black individuals considered severe / not severe are expected to be arrested at the same rates."
   ]
  },
  {
   "cell_type": "markdown",
   "id": "39fc8a3b-1c31-47e2-81a5-2858547706c6",
   "metadata": {},
   "source": [
    "&emsp;&emsp;The observed $\\Delta \\mu_{total}$ is shown below. In other words, the arrest rates for White individuals compared to those of Black individuals totally differs by about 9.6%. The expected / ideal value should be about 0, so the fact that the difference in rates is close to 10% may be a prior indication that White individuals who are considered severe / not severe tend to be arrested more often than Black individuals."
   ]
  },
  {
   "cell_type": "code",
   "execution_count": 25,
   "id": "bd41409c-eb3a-48b8-98ef-52063083bc3a",
   "metadata": {},
   "outputs": [
    {
     "data": {
      "text/plain": [
       "0.0956845564423051"
      ]
     },
     "execution_count": 25,
     "metadata": {},
     "output_type": "execute_result"
    }
   ],
   "source": [
    "is_severe_statistic_observed_bw = diffs_in_means_bw(pivot_is_severe_ratios)\n",
    "is_severe_statistic_observed_bw"
   ]
  },
  {
   "cell_type": "code",
   "execution_count": 26,
   "id": "16687c27-5c56-45db-b051-198ad7f564b9",
   "metadata": {},
   "outputs": [
    {
     "name": "stdout",
     "output_type": "stream",
     "text": [
      "p-value: 0.0\n"
     ]
    }
   ],
   "source": [
    "is_severe_results_bw = []\n",
    "data_bw = data[data[\"subject_race\"].isin([\"Black\", \"White\"])].copy().reset_index(drop = True)\n",
    "data_is_severe_random_bw = data_bw[[\"subject_race\", \"is_severe\", \"arrest_made\"]].copy()\n",
    "\n",
    "for i in range(100):\n",
    "    shuffled_race = data_bw[\"subject_race\"].sample(frac = 1, replace = False, random_state = i, ignore_index = True)\n",
    "    data_is_severe_random_bw[\"subject_race\"] = shuffled_race\n",
    "    pivot_is_severe_random_bw = data_is_severe_random_bw.pivot_table(\n",
    "        index = [\"subject_race\", \"is_severe\"],\n",
    "        columns = \"arrest_made\",\n",
    "        aggfunc = \"size\"\n",
    "    ).fillna(0).astype(\"int\")\n",
    "    pivot_is_severe_random_ratios_bw = pivot_counts_to_ratios(pivot_is_severe_random_bw)\n",
    "    statistic_simulated = diffs_in_means_bw(pivot_is_severe_random_ratios_bw)\n",
    "    is_severe_results_bw.append(statistic_simulated)\n",
    "    \n",
    "is_severe_p_value_bw = (pd.Series(is_severe_results_bw) >= is_severe_statistic_observed_bw).mean()\n",
    "#print(f\"p-value: {is_severe_p_value_bw} \\nReject Null Hypothesis: {is_severe_p_value_bw <= significance}\")\n",
    "print(f\"p-value: {is_severe_p_value_bw}\")"
   ]
  },
  {
   "cell_type": "code",
   "execution_count": 27,
   "id": "8e67fa78-a8fd-470b-962b-84b6fcf01026",
   "metadata": {},
   "outputs": [
    {
     "data": {
      "text/plain": [
       "[<matplotlib.lines.Line2D at 0x2a8de9c4d60>]"
      ]
     },
     "execution_count": 27,
     "metadata": {},
     "output_type": "execute_result"
    },
    {
     "data": {
      "text/plain": [
       "<Figure size 800x600 with 0 Axes>"
      ]
     },
     "metadata": {},
     "output_type": "display_data"
    },
    {
     "data": {
      "image/png": "[encoded data removed]",
      "text/plain": [
       "<Figure size 800x600 with 1 Axes>"
      ]
     },
     "metadata": {
      "needs_background": "light"
     },
     "output_type": "display_data"
    }
   ],
   "source": [
    "plt.figure(figsize = (8, 6), dpi = 100)\n",
    "plt.rc(\"axes\", titlesize = 15)\n",
    "plt.rc(\"axes\", labelsize = 15)\n",
    "\n",
    "plots, ax = plt.subplots(1, 1, figsize = (8, 6), dpi = 100)\n",
    "ax.hist(\n",
    "    is_severe_results_bw,\n",
    "    edgecolor = \"black\"\n",
    ")\n",
    "plt.title(\"Expected Distribution of the TDM\")\n",
    "plt.xlabel(\"Total Difference of Means\")\n",
    "plt.ylabel(\"Frequency\")\n",
    "plt.plot([is_severe_statistic_observed_bw, is_severe_statistic_observed_bw], [ax.get_ylim()[0], ax.get_ylim()[1]], color = \"red\")"
   ]
  },
  {
   "cell_type": "markdown",
   "id": "6d9e9128-44f5-43d3-8eaa-5b4ea9cf4147",
   "metadata": {},
   "source": [
    "&emsp;&emsp;The distribution of $\\Delta \\mu_{total}$ under the null hypothesis is shown above with the red line representing the position of the observed $\\Delta \\mu_{total}$. Again, observe how the position of the observed value is all the way out in the extremes which is considered abnormally high for the expected distribution. Ideally, one would see the difference in rates close to 0, but the statistical test proves that the real difference in rates is statistically significant."
   ]
  },
  {
   "cell_type": "markdown",
   "id": "001f8d62-269d-4f55-bc70-ab97b0225de6",
   "metadata": {},
   "source": [
    "&emsp;&emsp;Through 100 random simulations to generate a distribution of the test statistic under the null hypothesis assumption, the test yielded a p-value of 0.0. In other words, one cannot expect, with any probability at all, to find a difference of 9.6% in a scenario where race is irrelevant. Because this value is below the significance level of 0.01, reject the null hypothesis with confidence that most likely, White individuals are being discriminated against in the dataset under Rawlsian Equality of Opportunity.\n",
    "\n",
    "&emsp;&emsp;Note, however, that White individuals make up most of the dataset, and conditional on an individual being arrested, White individuals continue to compose the majority of the population as well. Since on avereage, regardless of severity, White individuals are arrested more often than Black individuals, it is possible that this overrepresentation has led to this difference in rates, and if this is case, then it cannot be interpreted into a social context, as the results are not accurately representative of the real world."
   ]
  },
  {
   "cell_type": "code",
   "execution_count": 28,
   "id": "b8809bc8-0c58-4b49-8c6f-7b15405392c9",
   "metadata": {},
   "outputs": [],
   "source": [
    "def make_severity_quantile_pivot(df, q):\n",
    "    df_severity_total = df[[\"subject_race\", \"severity_total\", \"arrest_made\"]]\n",
    "    \n",
    "    race_groups = [df_severity_total[df_severity_total[\"subject_race\"] == race].sort_values(by = [\"subject_race\", \"severity_total\"], ascending = [True, False]) for race in df[\"subject_race\"].unique()]\n",
    "    race_groups_top_q = [race_group[:int(len(race_group)*q)] for race_group in race_groups]\n",
    "    race_groups_top_q_aggregated = pd.concat(race_groups_top_q)\n",
    "    pivot_race_groups = race_groups_top_q_aggregated.pivot_table(\n",
    "        index = \"subject_race\",\n",
    "        columns = \"arrest_made\",\n",
    "        aggfunc = \"size\"\n",
    "    )\n",
    "    \n",
    "    return pivot_race_groups\n",
    "\n",
    "def sd_quantile(pivot_ratios):\n",
    "    pivot_ratios_arrests = pivot_ratios[True]\n",
    "    \n",
    "    return pivot_ratios_arrests.std()"
   ]
  },
  {
   "cell_type": "markdown",
   "id": "02e443bc-8311-43f3-bdf7-56939856bdf2",
   "metadata": {},
   "source": [
    "Applying Luck Egalitarian Equality of Opportunity\n",
    "---\n",
    "&emsp;&emsp;Assuming it is feasible to conduct a statistical investigation into a potential inequity, Luck Egalitarian Equality of Opportunity is statistically applied to the dataset by considering relative positions in the separate distributions of individuals between the varying races. The idea here is to check the arrest rates individuals considered severe who lie within the top $q$ quantiles of their relative distributions. If the variation in arrest rates is statistically significant, then there must exist a potential racial inequity in the data in the scope of Luck Egalitarian Equality of Opportunity.\n",
    "\n",
    "First, use the severity rankings to create pivot tables to display arrest rates of individuals considered severe within the top $q$ quantiles of their racial category."
   ]
  },
  {
   "cell_type": "markdown",
   "id": "f5541d04-0f99-464e-88be-6aa4b53fbcb9",
   "metadata": {},
   "source": [
    "Pivot table showing arrest rates for the top 25% most severe individuals:"
   ]
  },
  {
   "cell_type": "code",
   "execution_count": 29,
   "id": "e04cb285-20b2-4580-8579-2dfe7de5a64e",
   "metadata": {},
   "outputs": [
    {
     "data": {
      "text/html": [
       "<div>\n",
       "<style scoped>\n",
       "    .dataframe tbody tr th:only-of-type {\n",
       "        vertical-align: middle;\n",
       "    }\n",
       "\n",
       "    .dataframe tbody tr th {\n",
       "        vertical-align: top;\n",
       "    }\n",
       "\n",
       "    .dataframe thead th {\n",
       "        text-align: right;\n",
       "    }\n",
       "</style>\n",
       "<table border=\"1\" class=\"dataframe\">\n",
       "  <thead>\n",
       "    <tr style=\"text-align: right;\">\n",
       "      <th>arrest_made</th>\n",
       "      <th>False</th>\n",
       "      <th>True</th>\n",
       "    </tr>\n",
       "    <tr>\n",
       "      <th>subject_race</th>\n",
       "      <th></th>\n",
       "      <th></th>\n",
       "    </tr>\n",
       "  </thead>\n",
       "  <tbody>\n",
       "    <tr>\n",
       "      <th>Asian/Pacific Islander</th>\n",
       "      <td>0.970788</td>\n",
       "      <td>0.029212</td>\n",
       "    </tr>\n",
       "    <tr>\n",
       "      <th>Black</th>\n",
       "      <td>0.935599</td>\n",
       "      <td>0.064401</td>\n",
       "    </tr>\n",
       "    <tr>\n",
       "      <th>Hispanic</th>\n",
       "      <td>0.953347</td>\n",
       "      <td>0.046653</td>\n",
       "    </tr>\n",
       "    <tr>\n",
       "      <th>Other</th>\n",
       "      <td>0.984822</td>\n",
       "      <td>0.015178</td>\n",
       "    </tr>\n",
       "    <tr>\n",
       "      <th>White</th>\n",
       "      <td>0.967215</td>\n",
       "      <td>0.032785</td>\n",
       "    </tr>\n",
       "  </tbody>\n",
       "</table>\n",
       "</div>"
      ],
      "text/plain": [
       "arrest_made                False      True\n",
       "subject_race                              \n",
       "Asian/Pacific Islander  0.970788  0.029212\n",
       "Black                   0.935599  0.064401\n",
       "Hispanic                0.953347  0.046653\n",
       "Other                   0.984822  0.015178\n",
       "White                   0.967215  0.032785"
      ]
     },
     "execution_count": 29,
     "metadata": {},
     "output_type": "execute_result"
    }
   ],
   "source": [
    "pivot_severity_quantile_25 = make_severity_quantile_pivot(data, 0.25)\n",
    "pivot_severity_quantile_25_ratios = pivot_counts_to_ratios(pivot_severity_quantile_25)\n",
    "pivot_severity_quantile_25_ratios"
   ]
  },
  {
   "cell_type": "markdown",
   "id": "a891be10-aeba-4cac-bbe3-912b5fa5592b",
   "metadata": {},
   "source": [
    "Pivot table showing arrest rates for the top 50% most severe individuals:"
   ]
  },
  {
   "cell_type": "code",
   "execution_count": 30,
   "id": "ced42a03-e51a-458a-b761-403c3339a309",
   "metadata": {},
   "outputs": [
    {
     "data": {
      "text/html": [
       "<div>\n",
       "<style scoped>\n",
       "    .dataframe tbody tr th:only-of-type {\n",
       "        vertical-align: middle;\n",
       "    }\n",
       "\n",
       "    .dataframe tbody tr th {\n",
       "        vertical-align: top;\n",
       "    }\n",
       "\n",
       "    .dataframe thead th {\n",
       "        text-align: right;\n",
       "    }\n",
       "</style>\n",
       "<table border=\"1\" class=\"dataframe\">\n",
       "  <thead>\n",
       "    <tr style=\"text-align: right;\">\n",
       "      <th>arrest_made</th>\n",
       "      <th>False</th>\n",
       "      <th>True</th>\n",
       "    </tr>\n",
       "    <tr>\n",
       "      <th>subject_race</th>\n",
       "      <th></th>\n",
       "      <th></th>\n",
       "    </tr>\n",
       "  </thead>\n",
       "  <tbody>\n",
       "    <tr>\n",
       "      <th>Asian/Pacific Islander</th>\n",
       "      <td>0.983795</td>\n",
       "      <td>0.016205</td>\n",
       "    </tr>\n",
       "    <tr>\n",
       "      <th>Black</th>\n",
       "      <td>0.964566</td>\n",
       "      <td>0.035434</td>\n",
       "    </tr>\n",
       "    <tr>\n",
       "      <th>Hispanic</th>\n",
       "      <td>0.973935</td>\n",
       "      <td>0.026065</td>\n",
       "    </tr>\n",
       "    <tr>\n",
       "      <th>Other</th>\n",
       "      <td>0.990333</td>\n",
       "      <td>0.009667</td>\n",
       "    </tr>\n",
       "    <tr>\n",
       "      <th>White</th>\n",
       "      <td>0.980739</td>\n",
       "      <td>0.019261</td>\n",
       "    </tr>\n",
       "  </tbody>\n",
       "</table>\n",
       "</div>"
      ],
      "text/plain": [
       "arrest_made                False      True\n",
       "subject_race                              \n",
       "Asian/Pacific Islander  0.983795  0.016205\n",
       "Black                   0.964566  0.035434\n",
       "Hispanic                0.973935  0.026065\n",
       "Other                   0.990333  0.009667\n",
       "White                   0.980739  0.019261"
      ]
     },
     "execution_count": 30,
     "metadata": {},
     "output_type": "execute_result"
    }
   ],
   "source": [
    "pivot_severity_quantile_50 = make_severity_quantile_pivot(data, 0.5)\n",
    "pivot_severity_quantile_50_ratios = pivot_counts_to_ratios(pivot_severity_quantile_50)\n",
    "pivot_severity_quantile_50_ratios"
   ]
  },
  {
   "cell_type": "markdown",
   "id": "abb0f93b-01be-4fdf-97b6-5011f131760e",
   "metadata": {},
   "source": [
    "Pivot table showing arrest rates for the top 75% most severe individuals:"
   ]
  },
  {
   "cell_type": "code",
   "execution_count": 31,
   "id": "8bf069bf-28ca-48d0-a265-46600fc10aad",
   "metadata": {},
   "outputs": [
    {
     "data": {
      "text/html": [
       "<div>\n",
       "<style scoped>\n",
       "    .dataframe tbody tr th:only-of-type {\n",
       "        vertical-align: middle;\n",
       "    }\n",
       "\n",
       "    .dataframe tbody tr th {\n",
       "        vertical-align: top;\n",
       "    }\n",
       "\n",
       "    .dataframe thead th {\n",
       "        text-align: right;\n",
       "    }\n",
       "</style>\n",
       "<table border=\"1\" class=\"dataframe\">\n",
       "  <thead>\n",
       "    <tr style=\"text-align: right;\">\n",
       "      <th>arrest_made</th>\n",
       "      <th>False</th>\n",
       "      <th>True</th>\n",
       "    </tr>\n",
       "    <tr>\n",
       "      <th>subject_race</th>\n",
       "      <th></th>\n",
       "      <th></th>\n",
       "    </tr>\n",
       "  </thead>\n",
       "  <tbody>\n",
       "    <tr>\n",
       "      <th>Asian/Pacific Islander</th>\n",
       "      <td>0.987373</td>\n",
       "      <td>0.012627</td>\n",
       "    </tr>\n",
       "    <tr>\n",
       "      <th>Black</th>\n",
       "      <td>0.974230</td>\n",
       "      <td>0.025770</td>\n",
       "    </tr>\n",
       "    <tr>\n",
       "      <th>Hispanic</th>\n",
       "      <td>0.980310</td>\n",
       "      <td>0.019690</td>\n",
       "    </tr>\n",
       "    <tr>\n",
       "      <th>Other</th>\n",
       "      <td>0.992403</td>\n",
       "      <td>0.007597</td>\n",
       "    </tr>\n",
       "    <tr>\n",
       "      <th>White</th>\n",
       "      <td>0.985593</td>\n",
       "      <td>0.014407</td>\n",
       "    </tr>\n",
       "  </tbody>\n",
       "</table>\n",
       "</div>"
      ],
      "text/plain": [
       "arrest_made                False      True\n",
       "subject_race                              \n",
       "Asian/Pacific Islander  0.987373  0.012627\n",
       "Black                   0.974230  0.025770\n",
       "Hispanic                0.980310  0.019690\n",
       "Other                   0.992403  0.007597\n",
       "White                   0.985593  0.014407"
      ]
     },
     "execution_count": 31,
     "metadata": {},
     "output_type": "execute_result"
    }
   ],
   "source": [
    "pivot_severity_quantile_75 = make_severity_quantile_pivot(data, 0.75)\n",
    "pivot_severity_quantile_75_ratios = pivot_counts_to_ratios(pivot_severity_quantile_75)\n",
    "pivot_severity_quantile_75_ratios"
   ]
  },
  {
   "cell_type": "markdown",
   "id": "d22c0846-0910-4e01-868a-d45dd6c30343",
   "metadata": {},
   "source": [
    "&emsp;&emsp;Observe how from these three tables above, Black individuals of any top $q$ severity are arrested most often compared to Other individuals of the same $q$ who have the lowest rates of arrest. Note and recall that \"Other\" composes the smallest proportion of individuals in the racial makeup of the dataset, so these observations may not be surprising. Regardless of whether or not the statistical tests yield significant results, it is possible that this difference is due to underrepresentation of the Other category and not because of racial discrimination. If this is true, then any significant results coming from the analysis are likely to not be representative of what is truly observed outside of the data and is a mere byproduct of underrepresentation of the population.\n",
    "\n",
    "&emsp;&emsp;Assuming that it is valid to perform a data analysis, three separate statistical tests are performed for the top 25%, 50%, and 75% most severe individuals in their respective distributions. Since Luck Egalitarian Equality of Opportunity holds if all arrest rates for the top $q$ most severe individuals between racial categories is the same, we formulate a statistical test as follows for each $q=\\{0.25, 0.5, 0.75\\}$:\n",
    "\n",
    "- Null Hypothesis: For the top $q$ individuals in their respective distributions, the arrest rates between these distributions are less spread out, implying similarity.\n",
    "- Alternative Hypothesis: For the top $q$ individuals in their respective distributions, the arrest rates between these distributions are more spread out, implying inequality.\n",
    "\n",
    "Again, fix the significance level to be 0.01.\n",
    "\n",
    "The test statistic to compute is the standard deviation, $\\sigma$, of the arrest rates between races given $q$. As in applying Rawlsian Formal Equality of Opportunity, the reasoning is that larger values of $\\sigma$ mean that the arrest rates are more spread out, so larger values are considered more extreme. On the other hand, we expect $\\sigma \\approx 0$ if Luck Egalitarian Equality of Opportunity holds since it implies that when comparing the top $q$ individuals in each category of their uncontrollable circumstance, they should be given the same utility."
   ]
  },
  {
   "cell_type": "markdown",
   "id": "fe0b35bc-9416-47d0-bf99-66b931e772ee",
   "metadata": {},
   "source": [
    "Observed $\\sigma$ for the statistical test with $q = 0.25$:"
   ]
  },
  {
   "cell_type": "code",
   "execution_count": 32,
   "id": "b02a53db-b4ee-4595-ae1b-e1acec3d8e13",
   "metadata": {},
   "outputs": [
    {
     "data": {
      "text/plain": [
       "0.018685022989194135"
      ]
     },
     "execution_count": 32,
     "metadata": {},
     "output_type": "execute_result"
    }
   ],
   "source": [
    "quantile_25_statistic_observed = sd_quantile(pivot_severity_quantile_25_ratios)\n",
    "quantile_25_statistic_observed"
   ]
  },
  {
   "cell_type": "markdown",
   "id": "3a7b7d97-128a-4302-908d-0074f50d029d",
   "metadata": {},
   "source": [
    "Observed $\\sigma$ for the statistical test with $q = 0.5$:"
   ]
  },
  {
   "cell_type": "code",
   "execution_count": 33,
   "id": "eb4366bb-dc54-4aa4-b2a1-3ba725e03c43",
   "metadata": {},
   "outputs": [
    {
     "data": {
      "text/plain": [
       "0.009847639941202376"
      ]
     },
     "execution_count": 33,
     "metadata": {},
     "output_type": "execute_result"
    }
   ],
   "source": [
    "quantile_50_statistic_observed = sd_quantile(pivot_severity_quantile_50_ratios)\n",
    "quantile_50_statistic_observed"
   ]
  },
  {
   "cell_type": "markdown",
   "id": "bbb32649-686c-4800-8549-92e7555525cc",
   "metadata": {},
   "source": [
    "Observed $\\sigma$ for the statistical test with $q = 0.75$:"
   ]
  },
  {
   "cell_type": "code",
   "execution_count": 34,
   "id": "0f914937-9c0d-44d9-ba00-9936409e5187",
   "metadata": {},
   "outputs": [
    {
     "data": {
      "text/plain": [
       "0.006956835363464184"
      ]
     },
     "execution_count": 34,
     "metadata": {},
     "output_type": "execute_result"
    }
   ],
   "source": [
    "quantile_75_statistic_observed = sd_quantile(pivot_severity_quantile_75_ratios)\n",
    "quantile_75_statistic_observed"
   ]
  },
  {
   "cell_type": "markdown",
   "id": "b29a50ee-907c-40f9-bc35-393c8aca3c0b",
   "metadata": {},
   "source": [
    "&emsp;&emsp;Notice how as $q$ increases, $\\sigma$ decreases notably, from a spread of 0.018 to 0.009 to about 0.007. This means comparing more and more individuals of each racial category yields in more even and similar arrest rates (recall that $q$ is not a threshold for severity but rather a threshold for breadth of each racial category to analyze). This probably results from how the top severity of each racial category can differ (think maximum severity) which results in uneven arrest rates along with how having less people in a distribution can produce variation more easily. After all, 1 person's arrest in a group of 100 would mean more than 1 arrest in a group of 1,000,000. It is possible that the $q$ for the greatest $\\sigma$ yielded is a good indicator of whether or not racial inequality is present because police officers could assign more reasons and / or arrest individuals of a particular race, producing observed outliers in the distribution of the top 25% most severe individuals of each racial category. If so, then the dataset is racially biased for which a statistical analysis would also turn up racially biased results."
   ]
  },
  {
   "cell_type": "code",
   "execution_count": 35,
   "id": "8bd9a2c4-c2af-494b-b58c-64bf6dad3d55",
   "metadata": {},
   "outputs": [
    {
     "name": "stdout",
     "output_type": "stream",
     "text": [
      "quantile: 0.25 \n",
      "p-value: 0.0\n",
      "quantile: 0.5 \n",
      "p-value: 0.0\n",
      "quantile: 0.75 \n",
      "p-value: 0.0\n"
     ]
    }
   ],
   "source": [
    "q_statistics = {\n",
    "    0.25: quantile_25_statistic_observed,\n",
    "    0.5: quantile_50_statistic_observed,\n",
    "    0.75: quantile_75_statistic_observed\n",
    "}\n",
    "\n",
    "q_results = {\n",
    "    0.25: [],\n",
    "    0.5: [],\n",
    "    0.75: []\n",
    "}\n",
    "\n",
    "for q in q_statistics:\n",
    "    severity_results = []\n",
    "    data_severity_random = data[[\"subject_race\", \"severity_total\", \"arrest_made\"]].copy()\n",
    "    \n",
    "    for i in range(100):\n",
    "        shuffled_race = data_severity_random[\"subject_race\"].sample(frac = 1, replace = False, random_state = i, ignore_index = True)\n",
    "        data_severity_random[\"subject_race\"] = shuffled_race\n",
    "        pivot_severity_random = make_severity_quantile_pivot(data_severity_random, q)\n",
    "        pivot_severity_random_ratios = pivot_counts_to_ratios(pivot_severity_random)\n",
    "        statistic_simulated = sd_quantile(pivot_severity_random_ratios)\n",
    "        severity_results.append(statistic_simulated)\n",
    "    severity_p_value = (pd.Series(severity_results) >= q_statistics[q]).mean()\n",
    "    #print(f\"quantile: {q} \\np-value: {severity_p_value} \\nReject Null Hypothesis: {severity_p_value <= significance} \\n\")\n",
    "    \n",
    "    print(f\"quantile: {q} \\np-value: {severity_p_value}\")\n",
    "    \n",
    "    q_results[q] = severity_results"
   ]
  },
  {
   "cell_type": "code",
   "execution_count": 36,
   "id": "2af5d2aa-8516-4935-adf0-56f8dab2a18c",
   "metadata": {},
   "outputs": [
    {
     "data": {
      "text/plain": [
       "<Figure size 800x600 with 0 Axes>"
      ]
     },
     "metadata": {},
     "output_type": "display_data"
    },
    {
     "data": {
      "image/png": "[encoded data removed]",
      "text/plain": [
       "<Figure size 800x600 with 1 Axes>"
      ]
     },
     "metadata": {
      "needs_background": "light"
     },
     "output_type": "display_data"
    },
    {
     "data": {
      "text/plain": [
       "<Figure size 800x600 with 0 Axes>"
      ]
     },
     "metadata": {},
     "output_type": "display_data"
    },
    {
     "data": {
      "image/png": "[encoded data removed]",
      "text/plain": [
       "<Figure size 800x600 with 1 Axes>"
      ]
     },
     "metadata": {
      "needs_background": "light"
     },
     "output_type": "display_data"
    },
    {
     "data": {
      "text/plain": [
       "<Figure size 800x600 with 0 Axes>"
      ]
     },
     "metadata": {},
     "output_type": "display_data"
    },
    {
     "data": {
      "image/png": "[encoded data removed]",
      "text/plain": [
       "<Figure size 800x600 with 1 Axes>"
      ]
     },
     "metadata": {
      "needs_background": "light"
     },
     "output_type": "display_data"
    }
   ],
   "source": [
    "for q in q_statistics:\n",
    "    plt.figure(figsize = (8, 6), dpi = 100)\n",
    "    plt.rc(\"axes\", titlesize = 15)\n",
    "    plt.rc(\"axes\", labelsize = 15)\n",
    "\n",
    "    plots, ax = plt.subplots(1, 1, figsize = (8, 6), dpi = 100)\n",
    "    ax.hist(\n",
    "        q_results[q],\n",
    "        edgecolor = \"black\"\n",
    "    )\n",
    "    plt.title(f\"Expected Distribution of the SD with Quantile = {q}\")\n",
    "    plt.xlabel(\"Standard Deviation\")\n",
    "    plt.ylabel(\"Frequency\")\n",
    "    plt.plot([q_statistics[q], q_statistics[q]], [ax.get_ylim()[0], ax.get_ylim()[1]], color = \"red\")"
   ]
  },
  {
   "cell_type": "markdown",
   "id": "24242eea-9a2f-4032-9455-b437f34b458d",
   "metadata": {},
   "source": [
    "&emsp;&emsp;Above are plots for each $q$ displaying the distribution of $\\sigma$ under the null hypothesis with the red line representing the observed $\\sigma$ at that $q$. Notice how the observed values of $\\sigma$ are significantly further away from the expected distribution, meaning the variation in arrest rates for each $q$ are abnormal, hinting towards racial inequity."
   ]
  },
  {
   "cell_type": "markdown",
   "id": "e3a2a062-cb5a-40d6-a67d-fd512f6437dd",
   "metadata": {},
   "source": [
    "&emsp;&emsp;Assuming it is appropriate to conduct a statistical test, performing 100 random simulations to generate a distribution of the test statistic under the null hypothesis assumption for each value of $q$ all yielded p-values of 0. In other words, all statistical tests performed in this part gave statistically significant results, as all imply that it is not expected at all to see the observed $\\sigma$ values of 0.018, 0.009, and 0.007 for $q$ values of 0.25, 0.5, and 0.75, respectively. Reject the null hypothesis for each test with confidence that Luck Egalitarian Equality of Opportunity is not satisfied in any of these cases. Surprisingly, an observed value of 0.007 which seems rather close to 0.0, the ideal or expected value, for $q = 0.75$ is interesting because it means that the variation in the distribution of arrest rates for the top 75% most severe individuals across the races needs to be significantly lower in order to satisfy Luck Egalitarian Equality of Opportunity."
   ]
  },
  {
   "cell_type": "code",
   "execution_count": 37,
   "id": "e6dc54fb-8eb0-43ab-84a7-33d0701e6c8f",
   "metadata": {},
   "outputs": [],
   "source": [
    "def diffs_in_means_bo_q(pivot_ratios):\n",
    "    other_arrests = pivot_ratios.loc[\"Other\"][True]\n",
    "    black_arrests = pivot_ratios.loc[\"Black\"][True]\n",
    "    \n",
    "    return black_arrests - other_arrests"
   ]
  },
  {
   "cell_type": "markdown",
   "id": "0603d3bd-c0b2-496c-8eaf-1b23f087ac86",
   "metadata": {},
   "source": [
    "&emsp;&emsp;Because the spread in arrest rates turned out to be statistically significant, a follow up test is conducted to determine which race is discriminated against in the dataset. Recall how from the pivot table of arrest rates between races for each value of $q$, Black individuals were consistently arrested more often than Other individuals. Ergo, to determine if this difference is statistically significant, we formulate statistical tests for each $q$ again as follows:\n",
    "\n",
    "- Null Hypothesis: The arrest rate of the top $q$ most severe Black individuals are similar to the arrest rate of the top $q$ most severe \"Other\" individuals.\n",
    "- Alternative Hypothesis: The arrest rate of the top $q$ most severe Black individuals tends to be higher than the arrest rate of the top $q$ most severe \"Other\" individuals.\n",
    "\n",
    "Again, fix the significance level to be 0.01.\n",
    "\n",
    "The test statistic here is in computing, $\\Delta \\mu$, the total difference in the arrest rate of the top $q$ most severe Black individuals compared to the arrest rate of the top $q$ most severe \"Other\" individuals. Thus, the test statistic is as follows:\n",
    "\n",
    "$$\\Delta \\mu = \\mu_{Black} - \\mu_{Other}$$\n",
    "\n",
    "&emsp;&emsp;Note that when calculating $\\Delta \\mu$, the arrest rate of Black individuals is subtracted by the arrest rate of Other individuals, so larger values are considered extreme by this test, as they imply that the difference between the rate of arrests for Black individuals and for Other individuals is statistically significant. If Luck Egalitarian Equality of Opportunity is satisfied, then we should expect $\\Delta \\mu \\approx 0$ since it should hold that both the top $q$ most severe Black individuals and Other individuals in their respective distributions should have similar rates of arrests."
   ]
  },
  {
   "cell_type": "markdown",
   "id": "48accf54-9750-4ce7-8e9f-3a61ad289bb5",
   "metadata": {},
   "source": [
    "Observed $\\Delta \\mu$ for the statistical test with $q = 0.25$:"
   ]
  },
  {
   "cell_type": "code",
   "execution_count": 38,
   "id": "1120febc-7d2e-4626-aae2-6172f438ad85",
   "metadata": {},
   "outputs": [
    {
     "data": {
      "text/plain": [
       "0.049222743163981335"
      ]
     },
     "execution_count": 38,
     "metadata": {},
     "output_type": "execute_result"
    }
   ],
   "source": [
    "quantile_25_statistic_observed_bo = diffs_in_means_bo_q(pivot_severity_quantile_25_ratios)\n",
    "quantile_25_statistic_observed_bo"
   ]
  },
  {
   "cell_type": "markdown",
   "id": "7fd8a3c3-fb2d-424c-b1af-5c52040921ae",
   "metadata": {},
   "source": [
    "Observed $\\Delta \\mu$ for the statistical test with $q = 0.5$:"
   ]
  },
  {
   "cell_type": "code",
   "execution_count": 39,
   "id": "270f536f-38e7-4fbc-a708-5306f7c1289f",
   "metadata": {},
   "outputs": [
    {
     "data": {
      "text/plain": [
       "0.025766655379777566"
      ]
     },
     "execution_count": 39,
     "metadata": {},
     "output_type": "execute_result"
    }
   ],
   "source": [
    "quantile_50_statistic_observed_bo = diffs_in_means_bo_q(pivot_severity_quantile_50_ratios)\n",
    "quantile_50_statistic_observed_bo"
   ]
  },
  {
   "cell_type": "markdown",
   "id": "da4ee655-4911-4740-9ffa-6ddefc2fb1b8",
   "metadata": {},
   "source": [
    "Observed $\\Delta \\mu$ for the statistical test with $q = 0.75$:"
   ]
  },
  {
   "cell_type": "code",
   "execution_count": 40,
   "id": "dc496a4e-dc3e-4d6d-8b1b-8ac35b8d7f69",
   "metadata": {},
   "outputs": [
    {
     "data": {
      "text/plain": [
       "0.018172875698080307"
      ]
     },
     "execution_count": 40,
     "metadata": {},
     "output_type": "execute_result"
    }
   ],
   "source": [
    "quantile_75_statistic_observed_bo = diffs_in_means_bo_q(pivot_severity_quantile_75_ratios)\n",
    "quantile_75_statistic_observed_bo"
   ]
  },
  {
   "cell_type": "markdown",
   "id": "18b2c784-e540-43e5-9079-727b0b5dd832",
   "metadata": {},
   "source": [
    "&emsp;&emsp;Notice again how as $q$ increases, the observed test statistic, though different, decreases and seems to head closer and closer to 0. For the same reasons as before, it is possible that subjective data collection led to these differences, being more skewed and varied at the top rather than at the bottom of the distributions. Also, it is important not to forget that the Other category has the lowest number of individuals in both the total population and the population of arrested individuals, meaning that individuals classified as \"Other\" are underrepresented, so any significant results could inaccurate because of these issues."
   ]
  },
  {
   "cell_type": "code",
   "execution_count": 41,
   "id": "e430b4be-a10b-44ee-ac8e-6395f126b257",
   "metadata": {},
   "outputs": [
    {
     "name": "stdout",
     "output_type": "stream",
     "text": [
      "quantile: 0.25 \n",
      "p-value: 0.0\n",
      "quantile: 0.5 \n",
      "p-value: 0.0\n",
      "quantile: 0.75 \n",
      "p-value: 0.0\n"
     ]
    }
   ],
   "source": [
    "q_statistics_bo = {\n",
    "    0.25: quantile_25_statistic_observed_bo,\n",
    "    0.5: quantile_50_statistic_observed_bo,\n",
    "    0.75: quantile_75_statistic_observed_bo\n",
    "}\n",
    "\n",
    "q_results_bo = {\n",
    "    0.25: [],\n",
    "    0.5: [],\n",
    "    0.75: []\n",
    "}\n",
    "\n",
    "data_bo = data[data[\"subject_race\"].isin([\"Black\", \"Other\"])].copy().reset_index(drop = True)\n",
    "for q in q_statistics_bo:\n",
    "    severity_results_bo = []\n",
    "    data_severity_random_bo = data_bo[[\"subject_race\", \"severity_total\", \"arrest_made\"]].copy()\n",
    "    \n",
    "    for i in range(100):\n",
    "        shuffled_race = data_bo[\"subject_race\"].sample(frac = 1, replace = False, random_state = i, ignore_index = True)\n",
    "        data_severity_random_bo[\"subject_race\"] = shuffled_race\n",
    "        pivot_severity_random_bo = make_severity_quantile_pivot(data_severity_random_bo, q)\n",
    "        pivot_severity_random_ratios_bo = pivot_counts_to_ratios(pivot_severity_random_bo)\n",
    "        statistic_simulated = diffs_in_means_bo_q(pivot_severity_random_ratios_bo)\n",
    "        severity_results_bo.append(statistic_simulated)\n",
    "    severity_p_value_bo = (pd.Series(severity_results_bo) >= q_statistics_bo[q]).mean()\n",
    "    #print(f\"quantile: {q} \\np-value: {severity_p_value_bo} \\nReject Null Hypothesis: {severity_p_value_bo <= significance} \\n\")\n",
    "    print(f\"quantile: {q} \\np-value: {severity_p_value_bo}\")\n",
    "    \n",
    "    q_results_bo[q] = severity_results_bo"
   ]
  },
  {
   "cell_type": "code",
   "execution_count": 42,
   "id": "6d16eb86-0b88-4a99-bf70-c63d24a4f9cd",
   "metadata": {},
   "outputs": [],
   "source": [
    "\"\"\"\n",
    "#plt.figure(figsize = (8, 6))\n",
    "plots, axes = plt.subplots(2, 2, figsize = (16, 12), dpi = 100)\n",
    "qs = list(q_statistics.keys())\n",
    "index = 0\n",
    "for array in axes:\n",
    "    for ax in array:\n",
    "        if index > 2:\n",
    "            ax.axis(\"off\")\n",
    "            break\n",
    "        ax.hist(\n",
    "            q_results_bo[qs[index]],\n",
    "            edgecolor = \"black\"\n",
    "        )\n",
    "        ax.plot(\n",
    "            [q_statistics_bo[qs[index]], q_statistics_bo[qs[index]]],\n",
    "            [ax.get_ylim()[0], ax.get_ylim()[1]],\n",
    "            color = \"red\"\n",
    "        )\n",
    "        ax.set_title(f\"Expected Distribution of the DM with Quantile = {qs[index]}\")\n",
    "        ax.set_xlabel(\"Difference of Means\")\n",
    "        ax.set_ylabel(\"Frequency\")\n",
    "        index += 1\n",
    "\"\"\"\n",
    "print('', end = '')"
   ]
  },
  {
   "cell_type": "code",
   "execution_count": 43,
   "id": "52b665a0-5aba-4026-b12d-246bac478968",
   "metadata": {},
   "outputs": [
    {
     "data": {
      "text/plain": [
       "<Figure size 800x600 with 0 Axes>"
      ]
     },
     "metadata": {},
     "output_type": "display_data"
    },
    {
     "data": {
      "image/png": "[encoded data removed]",
      "text/plain": [
       "<Figure size 800x600 with 1 Axes>"
      ]
     },
     "metadata": {
      "needs_background": "light"
     },
     "output_type": "display_data"
    },
    {
     "data": {
      "text/plain": [
       "<Figure size 800x600 with 0 Axes>"
      ]
     },
     "metadata": {},
     "output_type": "display_data"
    },
    {
     "data": {
      "image/png": "[encoded data removed]",
      "text/plain": [
       "<Figure size 800x600 with 1 Axes>"
      ]
     },
     "metadata": {
      "needs_background": "light"
     },
     "output_type": "display_data"
    },
    {
     "data": {
      "text/plain": [
       "<Figure size 800x600 with 0 Axes>"
      ]
     },
     "metadata": {},
     "output_type": "display_data"
    },
    {
     "data": {
      "image/png": "[encoded data removed]",
      "text/plain": [
       "<Figure size 800x600 with 1 Axes>"
      ]
     },
     "metadata": {
      "needs_background": "light"
     },
     "output_type": "display_data"
    }
   ],
   "source": [
    "for q in q_statistics_bo:\n",
    "    plt.figure(figsize = (8, 6), dpi = 100)\n",
    "    plt.rc(\"axes\", titlesize = 15)\n",
    "    plt.rc(\"axes\", labelsize = 15)\n",
    "\n",
    "    plots, ax = plt.subplots(1, 1, figsize = (8, 6), dpi = 100)\n",
    "    ax.hist(\n",
    "        q_results_bo[q],\n",
    "        edgecolor = \"black\"\n",
    "    )\n",
    "    plt.title(f\"Expected Distribution of the DM with Quantile = {q}\")\n",
    "    plt.xlabel(\"Difference of Means\")\n",
    "    plt.ylabel(\"Frequency\")\n",
    "    plt.plot([q_statistics_bo[q], q_statistics_bo[q]], [ax.get_ylim()[0], ax.get_ylim()[1]], color = \"red\")"
   ]
  },
  {
   "cell_type": "markdown",
   "id": "194449c2-508d-43d0-9af5-201361b5cffa",
   "metadata": {},
   "source": [
    "&emsp;&emsp;Above are plots for each $q$ displaying the distribution of $\\Delta \\mu$ under the null hypothesis with the red line representing the observed $\\Delta \\mu$ at that $q$. Like before, notice how the observed values of $\\Delta \\mu$ are considerably far from the expected distribution of $\\Delta \\mu$ for each $q$. This indicates that the observed difference in arrest rates is too significant to be attributed to random variation."
   ]
  },
  {
   "cell_type": "markdown",
   "id": "ca9dbeeb-e0f9-4d43-98cb-e78e5e0b882c",
   "metadata": {},
   "source": [
    "&emsp;&emsp;Again, assuming it is appropriate to perform a statistical test, 100 random simulations were conducted to generate a distribution of the test statistic under the null hypothesis assumption for each value of $q$ with all tests yielding p-values of 0. Reiterating similar implications from before, this means assuming that race is irrelevant to making arrests, there is absolutely no chance whatsoever of seeing differences in arrest rates between Black and Other individuals as high as 0.049, 0.026, 0.018 for $q$ values of 0.25, 0.5, and 0.75, respectively. Thus, reject the null hypothesis with confidence that Luck Egalitarian Equality of Opportunity is violated for Black and Other individuals."
   ]
  },
  {
   "cell_type": "markdown",
   "id": "2bea994a-3cd3-49dd-961e-2e7547977017",
   "metadata": {},
   "source": [
    "# Conclusions"
   ]
  },
  {
   "cell_type": "markdown",
   "id": "120539ea-5266-4a52-9f58-5656a4e3c4aa",
   "metadata": {},
   "source": [
    "&emsp;&emsp;Overall, all of the hypothesis tests performed generated statistically significant results. This section discusses the findings at both a technical and sociological level with respect to the two definitions of fairness given.\n",
    "\n",
    "Rawlsian Formal Equality of Opportunity\n",
    "---\n",
    "&emsp;&emsp;To summarize, two separate statistical tests were performed with Rawlsian Formal Equality of Opportunity in mind: a hypothesis test to determine if the arrest rates for individuals of the same classification of severity were similar, and second, a hypothesis test to ascertain which race was being discriminated against as a follow up. For the first test examining the $\\sigma_{total}$ of arrest rates between races for individuals both severe / not severe, the observed value is completely out in the extremes of the expected distribution of the $\\sigma_{total}$ under the null hypothesis as shown in the histogram. Coinciding with a p-value of 0.0, meaning that there is 0% chance of seeing a value as extreme as a $\\sigma_{total} = 0.04$, and coupled with a significance level of 0.01, one can be extremely confident that the observed arrest rates between the races is too spread out to be declared \"similar\" or \"equal\". Then, as a follow up, another hypothesis test examined the difference in arrest rates between Black individuals and White individuals; the results were similar in that it yielded an observed $\\Delta \\mu_{total}$ seen totally in the extremes of the expected distribution under the null hypothesis assumption alongisde a p-value of 0.0. In essence, under Rawlsian Formal Equality of Opportunity, there does exist a potential racial inequity in the data with possibly White individuals being arrested more often than Black individuals. Because of how White individuals of the same criminality as Black individuals tend to be arrested more, Rawlsian Formal Equality of Opportunity is not satisfied.\n",
    "\n",
    "Luck Egalitarian Equality of Opportunity\n",
    "---\n",
    "&emsp;&emsp;Moving onto Luck Egalitarian Equality of Opportunity, this definition of distributive justice was applied with a similar method as with Rawlsian Formal Equality of Opportunity: a hypothesis test for separate $q$ quantile values to determine if the data satisfies Luck Egalitarian Equality of Opportunity or not, and another as a follow up to ascertain which race was being discriminated against in the dataset. For the first test examining the $\\sigma$ of arrest rates for the top $q$ most severe individuals in their respective racial categories, the observed values are completely extreme compared to the expected distributions of the $\\sigma$ under the null hypothesis at each $q$ as shown in the histograms. Coupled with p-values of 0.0, one can be extremely confident that the observed arrest rates for each value of $q$ is too spread out to be classified as \"similar\" or \"equal\". Following this conclusion, another hypothesis test examined the difference in arrest rates between Black individuals and Other individuals; consequently, it yielded similar results with p-values of 0.0 for each $q$ with extreme observed values of $\\Delta \\mu$. Undoubtedly, under Luck Egalitarian Equality of Opportunity, there does exist a potential racial inequity in the data with possibly Black individuals being arrested more often than Other individuals. For each distribution of the top $q$ most severe Black and Other individuals given the same $q$, Black individuals are disproportionately arrested more often when the rates should be similar to that of the Other category under this notion of fairness. Hence, Luck Egalitarian Equality of Opportunity is violated.\n",
    "\n",
    "Limitations\n",
    "---\n",
    "&emsp;&emsp;Clearly, all of the statistical tests performed in this paper had significant results. Not only is Rawlsian Formal Equality of Opportunity violated in the dataset, it also fails to meet Luck Egalitarian Equality of Opportunity. Two major implications are implied thus far: White individuals are possibly arrested more often than Black individuals even with the same severity, and Black individuals are arrested more often than Other individuals when considering relative distributions. \n",
    "\n",
    "&emsp;&emsp;The first conclusion possibly results from a relative overrepresentation of White individuals in the dataset, as they compose the majority of the records. As stated before, overrepresentation does mean that even without any conditions, White individuals are more often stopped and arrested than any other racial category. With this in mind, it could be the case that the results yielded by the statistical tests are inaccurate due to this overrepresentation. Another cause could be the issue of infra-marginality as discussed by Simoiu, Corbett-Davies, and Goel (2017) who posit that different races have differing behaviors which can lead to disproportionate rates in treatment even if there is no racial discrimination. If White individuals engage in behavior that put them at higher risk of being stopped / searched / arrested compared to Black individuals, then the results from the statistical tests have come about because of infra-marginality and / or overrepresentation and not because of discrimination against White individuals.\n",
    "\n",
    "&emsp;&emsp;Second, the conclusion that Black individuals are arrested more often than Other individuals under Luck Egalitarian Equality of Opportunity could be due to underrepresentation of the Other category. After all, they compose the least amount of individuals in the dataset's population and also in the population of arrested individuals. Infra-marginality can also be at play here, relative to Other individuals, that put Black individuals at a higher risk of being stopped / searched / arrested. If any of this is true, then the statistically significant results yielded by the tests are a result of infra-marginality and / or underrepresentation and not because of discrimination against Black individuals relative to the Other group.\n",
    "\n",
    "&emsp;&emsp;Taking a step back to think about the results and the data more generally now, recall from the conclusions and considerations made at the end of the Data Exploration section about the presence of sampling bias, race label ambiguity, subjectivity of data collection, and reasons to stop / search an individual as a proxy measurement of criminality. Because of possible sampling bias with police officers stopping individuals of certain races more often, White individuals are overrepresented in the dataset with Other individuals underrepresented. Because of how each race label is ambiguous and fails to accommodate for multiracial individuals, some individuals could have been incorrectly classified, or multiracial individuals could have been counted for different races, leading not only to outliers but also misrepresentation in the racial category they are placed in. Much of these issues originate from the subjectivity of data collection which is left up to individual police officers to record traffic stop incidents rather than having a more centralized system to collect data. Of course, because judging by appearance is subjective, police officers can make mistakes in classifying people into racial categories along with adding more reasons to stop / search an individual impicitly because of racial biases. Even setting aside racial biases, police officers are bound to make mistakes in allocating reasons to stop / search an individual, possibly misjudging an individual based off of subjective views. On the topic of measurements, the severity score used in this paper is a proxy at best for an individual's criminality and has the flaws of assuming that each reason is weighted the same in addition to how individual police officers can possibly add more reasons for individuals of certain races based off of implicit bias. This is not to mention how, recalling the issue of focusing on the whole dataset because of a lack in negative labels, the data says nothing about people who were not stopped at all or people who were stopped but not recorded. Speaking of sampling bias, their lack of representation in the dataset is ultimately a product of not having a proper system for collecting data, and this issue could lead to misrepresentation in the dataset with numbers skewing a certain way and affecting analysis. Finally, adding on the potential problem of infra-marginality where people of differing races can have differing behaviors, it is possible that even without any racial discrimination present in the data, people of one race may be arrested more often or less often than another because of their behaviors. Considering all of this, there are a cornucopia of holes and inconsistencies in the dataset that ultimately put the validity of this paper's statistical analysis at risk due to issues of data collection in sampling bias or encoding implicit biases, measurement, and possible infra-marginality. Otherwise, under an abundance of assumptions to validate analyzing the data, there are clear and present racial inequities in San Diego police traffic stops and in particular, disparate treatment in arresting individuals of differing races, violating both Rawlsian Formal Equality of Opportunity and Luck Egalitarian Equality of Opportunity."
   ]
  },
  {
   "cell_type": "markdown",
   "id": "7a365bbb-d347-4249-8395-e7a1918666ec",
   "metadata": {},
   "source": [
    "# References\n",
    "\n",
    "Arcas, B. A. y. (2017, May 20). Physiognomy's new clothes. Medium. Retrieved May 5, 2022, from https://medium.com/@blaisea/physiognomys-new-clothes-f2d4b59fdd6a \n",
    "\n",
    "Baumgartner, F. R., Epp, D. A., Shoub, K., & Love, B. (2017). Targeting young men of color for search and arrest during traffic stops: evidence from North Carolina, 2002–2013, Politics, Groups, and Identities, 5:1, 107-131, DOI: 10.1080/21565503.2016.1160413\n",
    "\n",
    "Buolamwini, J. (2017, May 29). Algorithms aren't racist. Your skin is just too dark. Hackernoon. Retrieved May 5, 2022, from https://hackernoon.com/algorithms-arent-racist-your-skin-is-just-too-dar \n",
    "\n",
    "Chanin, J., Welsh, M., Nurge, D. (2018). Traffic Enforcement Through the Lens of Race: A Sequential Analysis of Post-Stop Outcomes in San Diego, California. Criminal Justice Policy Review, Vol. 29(6-7), 561-583.\n",
    "\n",
    "D’Ignazio, C., & Klein, L. (2020). 1. The Power Chapter. *Data Feminism*. Retrieved from https://data-feminism.mitpress.mit.edu/pub/vi8obxh7\n",
    "\n",
    "Heidari, H., Loi, M., Gummadi, K. P., Krause, A. (2018). A Moral Framework for Understanding of Fair ML through Economic Models of Equality of Opportunity.\n",
    "\n",
    "Pierson, E., Simoiu, C., Overgoor, J., Corbett-Davies, S., Jenson, D., Shoemaker, A., Ramachandran, V., Barghouty, P., Phillips, C., Shroff, R., & Goel, S. (2020). A large-scale analysis of racial disparities in police stops across the United States. Nature Human Behaviour, Vol. 4, 2020.\n",
    "\n",
    "Lamont, J., &amp; Favor, C. (2017, September 26). Distributive justice. Stanford Encyclopedia of Philosophy. Retrieved May 5, 2022, from https://plato.stanford.edu/entries/justice-distributive/ \n",
    "\n",
    "Legal Information Institute. (n.d.). Probable cause. Legal Information Institute. Retrieved May 5, 2022, from https://www.law.cornell.edu/wex/probable_cause \n",
    "\n",
    "Simoiu, C., Corbett-Davies, S., &amp; Goel, S. (2017). The problem of infra-marginality in outcome tests for discrimination. The Annals of Applied Statistics, 11(3). https://doi.org/10.1214/17-aoas1058 \n",
    "\n",
    "U.S. Constitution | Constitution Annotated - Library of Congress. Library of Congress. (n.d.). Retrieved May 5, 2022, from https://constitution.congress.gov/constitution/ "
   ]
  }
 ],
 "metadata": {
  "kernelspec": {
   "display_name": "Python 3 (ipykernel)",
   "language": "python",
   "name": "python3"
  },
  "language_info": {
   "codemirror_mode": {
    "name": "ipython",
    "version": 3
   },
   "file_extension": ".py",
   "mimetype": "text/x-python",
   "name": "python",
   "nbconvert_exporter": "python",
   "pygments_lexer": "ipython3",
   "version": "3.10.5"
  }
 },
 "nbformat": 4,
 "nbformat_minor": 5
}
